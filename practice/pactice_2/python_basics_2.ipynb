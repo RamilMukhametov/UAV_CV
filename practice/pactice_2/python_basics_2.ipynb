{
 "cells": [
  {
   "cell_type": "markdown",
   "metadata": {},
   "source": [
    "# Python basics 2"
   ]
  },
  {
   "cell_type": "markdown",
   "metadata": {},
   "source": [
    "### Оператор if\n",
    "Базовый оператор в каждом ЯП. Позволяет сделать проверку условий (в виде высказываний - т.е. то, что м.б. интерпертировано однозначно: True / False). Образует обособленный функциональный блок кода (отделяеся отступом - стандартный отступ в python в 4 пробела). Блок внутри <b>if</b> выполняется ТОЛЬКО если результат проверки условия будет True.\n",
    "- Может иметь дополнительные ключевые слова <b>elif</b> (дополнительные условия - их м.б. сколько угодно) и <b>else</b> (финальная проверка) внутри блока.\n",
    "- Блоки с <b>if</b> могут быть вложены друг в друга неограниченное число раз\n",
    "- При написании условий для проверки можно комбинировать логические операторы <b>and, or, not</b>"
   ]
  },
  {
   "cell_type": "code",
   "execution_count": 3,
   "metadata": {},
   "outputs": [
    {
     "name": "stdout",
     "output_type": "stream",
     "text": [
      "а больше 4\n"
     ]
    }
   ],
   "source": [
    "a = 5\n",
    "if a > 4:\n",
    "    print('а больше 4')"
   ]
  },
  {
   "cell_type": "code",
   "execution_count": 4,
   "metadata": {},
   "outputs": [
    {
     "name": "stdout",
     "output_type": "stream",
     "text": [
      "а больше 4\n",
      "6\n"
     ]
    }
   ],
   "source": [
    "a = 5\n",
    "if a > 4:\n",
    "    x = a + 1\n",
    "    print('а больше 4')\n",
    "    print(x)\n",
    "elif a > 10:\n",
    "    x = a + 2\n",
    "    print('а меньше 10')\n",
    "    print(x)\n",
    "elif a == 4:\n",
    "    x = a + 3\n",
    "    print('а равно 4')\n",
    "    print(x)\n",
    "else:\n",
    "    x = 0\n",
    "    print('а неизвестно')\n",
    "    print(x)"
   ]
  },
  {
   "cell_type": "code",
   "execution_count": 5,
   "metadata": {},
   "outputs": [
    {
     "name": "stdout",
     "output_type": "stream",
     "text": [
      "15\n",
      "a теперь еще больше\n",
      "20\n"
     ]
    }
   ],
   "source": [
    "a = 5\n",
    "if a > 2 and a < 10:\n",
    "    if a != 7:\n",
    "        a = a + 10\n",
    "        print(a)\n",
    "        if a == 15:\n",
    "            a = a + 5\n",
    "            print('a теперь еще больше')\n",
    "            print(a)"
   ]
  },
  {
   "cell_type": "markdown",
   "metadata": {},
   "source": [
    "Если несколько проверок внутри <b>if</b> истинны, выполнится ТОЛЬКО условие первой встреченной истинной проверки и ход выполнения программы пойдет далее после блока. Если проверяемые объекты не удовлетворяют ни одному из условий - блок внутри <b>if</b> не выполнится и ход выполнения программы пойдет далее."
   ]
  },
  {
   "cell_type": "code",
   "execution_count": 6,
   "metadata": {},
   "outputs": [
    {
     "name": "stdout",
     "output_type": "stream",
     "text": [
      "а больше 3\n",
      "выполнение пошло далее\n"
     ]
    }
   ],
   "source": [
    "a = 5\n",
    "if a > 3:\n",
    "    print('а больше 3')\n",
    "elif a > 4:\n",
    "    print('а больше 4')\n",
    "elif a == 5:\n",
    "    print('а равно 5')\n",
    "else:\n",
    "    print('не известно')\n",
    "\n",
    "print('выполнение пошло далее')"
   ]
  },
  {
   "cell_type": "markdown",
   "metadata": {},
   "source": [
    "### Цикл for"
   ]
  },
  {
   "cell_type": "markdown",
   "metadata": {},
   "source": [
    "Цикл <b>for</b> - важнейший оператор в python. Циклы позволяют выполнять действия с множеством объектов. Комбинация <b>if</b> и <b>for</b> - мощный инструмент и основа практически любых скриптов на python. В цикл можно передавать любой итерируемый (<b>iterable</b>) объект - списки, словари, множества, массивы numpy и даже строки. По умолчанию цикл закончится когда поэлементно будет обработана вся последовательность итерируемого объекта. Передача бесконечных последовательностей даеть бесконечный цикл (одна из причин зависания скриптов и ноутбуков)."
   ]
  },
  {
   "cell_type": "code",
   "execution_count": 7,
   "metadata": {},
   "outputs": [
    {
     "data": {
      "text/plain": [
       "range(0, 10)"
      ]
     },
     "execution_count": 7,
     "metadata": {},
     "output_type": "execute_result"
    }
   ],
   "source": [
    "r = range(0,10) # генератор последоавательности\n",
    "r"
   ]
  },
  {
   "cell_type": "code",
   "execution_count": 8,
   "metadata": {},
   "outputs": [
    {
     "name": "stdout",
     "output_type": "stream",
     "text": [
      "10\n",
      "11\n",
      "12\n",
      "13\n",
      "14\n",
      "15\n",
      "16\n",
      "17\n",
      "18\n",
      "19\n"
     ]
    }
   ],
   "source": [
    "for element in r:\n",
    "    print(element + 10)"
   ]
  },
  {
   "cell_type": "code",
   "execution_count": 11,
   "metadata": {},
   "outputs": [
    {
     "name": "stdout",
     "output_type": "stream",
     "text": [
      "п\n",
      "р\n",
      "и\n",
      "в\n",
      "е\n",
      "т\n",
      "!\n"
     ]
    }
   ],
   "source": [
    "a = 'привет!' # строка в python - итерируемый объект\n",
    "\n",
    "for element in a:\n",
    "    print(element)"
   ]
  },
  {
   "cell_type": "code",
   "execution_count": 13,
   "metadata": {},
   "outputs": [
    {
     "name": "stdout",
     "output_type": "stream",
     "text": [
      "1\n",
      "4\n",
      "9\n",
      "16\n",
      "25\n"
     ]
    }
   ],
   "source": [
    "b = [1,2,3,4,5] # список\n",
    "\n",
    "for e in b:\n",
    "    print(e ** 2)"
   ]
  },
  {
   "cell_type": "markdown",
   "metadata": {},
   "source": [
    "В цикле <b>for</b> могут быть ключевые слова: <b>break</b>, <b>continue</b> и <b>pass</b>. \n",
    "- Первое позволяет прервать выполнение цикла по каким-либо условиям (обычно вводятся через <b>if</b>) до того как будет обработана вся последовтельнось. \n",
    "- Второе дает возможность пропустить часть цикла, где активируется внешнее условие, но при этом выполнить остальную часть цикла.\n",
    "- Третье позволяет поставить \"заглушку\" (обычно временную) - выражение, никак не влияет на выполнение программы, но сам цикл выполнится. Полезно при разработке для создания шаблонов, которые не будут вызывать ошибку и останов программы. "
   ]
  },
  {
   "cell_type": "code",
   "execution_count": 15,
   "metadata": {},
   "outputs": [
    {
     "name": "stdout",
     "output_type": "stream",
     "text": [
      "1\n",
      "4\n",
      "9\n",
      "16\n",
      "элемент = 4, прерывание цикла\n",
      "цикл прерван!\n"
     ]
    }
   ],
   "source": [
    "b = [1,2,3,4,5] # список\n",
    "\n",
    "for elmt in b:\n",
    "    print(elmt ** 2)\n",
    "    \n",
    "    if elmt == 4:\n",
    "        print('элемент = 4, прерывание цикла')\n",
    "        break\n",
    "print('цикл прерван!')"
   ]
  },
  {
   "cell_type": "code",
   "execution_count": 17,
   "metadata": {},
   "outputs": [
    {
     "name": "stdout",
     "output_type": "stream",
     "text": [
      "элемент - число, возводим в квадрат\n",
      "1\n",
      "элемент - число, возводим в квадрат\n",
      "4\n",
      "элемент - число, возводим в квадрат\n",
      "16\n",
      "элемент - число, возводим в квадрат\n",
      "25\n",
      "Выход из цикла\n"
     ]
    }
   ],
   "source": [
    "b = [1,2,'3',4,5]\n",
    "\n",
    "for elmt in b:\n",
    "    if isinstance(elmt, str) : # проверка соответствия числовому типу\n",
    "        continue    # continue here\n",
    "\n",
    "    print('элемент - число, возводим в квадрат')\n",
    "    print(elmt ** 2)\n",
    "\n",
    "print('Выход из цикла')"
   ]
  },
  {
   "cell_type": "code",
   "execution_count": 18,
   "metadata": {},
   "outputs": [
    {
     "name": "stdout",
     "output_type": "stream",
     "text": [
      "n равно 0\n",
      "n равно 1\n",
      "n равно 2\n",
      "n равно 3\n",
      "n равно 4\n",
      "n равно 5\n",
      "n равно 6\n",
      "Выход из цикла\n"
     ]
    }
   ],
   "source": [
    "n = 0\n",
    "\n",
    "for n in range(7):\n",
    "    if n == 4:\n",
    "        pass # ничего не делаем (но цикл выполняется)\n",
    "    \n",
    "    if n == 5:\n",
    "        pass # ничего не делаем (но цикл выполняется)\n",
    "    \n",
    "    if n == 6:\n",
    "        pass # ничего не делаем (но цикл выполняется)\n",
    "\n",
    "    print('n равно ' + str(n))\n",
    "\n",
    "print('Выход из цикла')"
   ]
  },
  {
   "cell_type": "markdown",
   "metadata": {},
   "source": [
    "### Тип данных список (list)"
   ]
  },
  {
   "attachments": {
    "image.png": {
     "image/png": "[encoded data removed]"
    }
   },
   "cell_type": "markdown",
   "metadata": {},
   "source": [
    "Списки (lists) в Python можно рассматривать как аналог массива в других ЯП, за исключением того, что они могут содержать любые объекты (типы данных). <b>Список в Python — упорядоченная изменяемая коллекция объектов различных типов.</b> Он сам является объектом, поэтому может быть присвоен переменной (переменная, как и в предыдущих случаях, хранит адрес объекта класса \"список\"):\n",
    "\n",
    "![image.png](attachment:image.png)"
   ]
  },
  {
   "cell_type": "code",
   "execution_count": 19,
   "metadata": {},
   "outputs": [
    {
     "data": {
      "text/plain": [
       "[56.806, 57.1578, 57.4093, 56.1843, 57.2207]"
      ]
     },
     "execution_count": 19,
     "metadata": {},
     "output_type": "execute_result"
    }
   ],
   "source": [
    "List_1 = [56.8060, 57.1578, 57.4093, 56.1843, 57.2207] #returns [56.806, 57.1578, 57.4093, 56.1843, 57.2207]\n",
    "List_1"
   ]
  },
  {
   "attachments": {
    "image.png": {
     "image/png": "[encoded data removed]"
    }
   },
   "cell_type": "markdown",
   "metadata": {},
   "source": [
    "Как Python работает со списками в памяти: переменная e содержит адрес списка (id6). Каждый элемент списка является\n",
    "указателем (хранит адрес) другого объекта (в данном случае вещественных чисел). \n",
    "\n",
    "![image.png](attachment:image.png)\n",
    "\n",
    "На месте элементов списка могут находиться выражения, а не просто отдельные объекты. Списки (в отличие от множеств (sets) - упорядоченные (ordered) типы - все элементы следуют в определенном порядке). Также списки  (в отличие от строк) - изменяемые типы (mutable). Но и строки и списки - итерируемые (iterable)."
   ]
  },
  {
   "cell_type": "code",
   "execution_count": 20,
   "metadata": {},
   "outputs": [
    {
     "name": "stdout",
     "output_type": "stream",
     "text": [
      "56.806\n",
      "56.1843\n",
      "57.2207\n"
     ]
    }
   ],
   "source": [
    "list_1 = [56.8060, 57.1578, 57.4093, 56.1843, 57.2207]\n",
    "print(list_1[0])\n",
    "print(list_1[3])\n",
    "print(list_1[-1])"
   ]
  },
  {
   "cell_type": "code",
   "execution_count": 21,
   "metadata": {},
   "outputs": [
    {
     "data": {
      "text/plain": [
       "['bonjour', 'привет', 'hola', 'aloha', 'привіт']"
      ]
     },
     "execution_count": 21,
     "metadata": {},
     "output_type": "execute_result"
    }
   ],
   "source": [
    "h=['Hi', 27 , -8.1, [1,2]]\n",
    "h=['bonjour','привет','hola','aloha','привіт']\n",
    "h"
   ]
  },
  {
   "attachments": {
    "image.png": {
     "image/png": "[encoded data removed]"
    }
   },
   "cell_type": "markdown",
   "metadata": {},
   "source": [
    "В памяти список h будет представлен так:\n",
    "\n",
    "![image.png](attachment:image.png)"
   ]
  },
  {
   "cell_type": "code",
   "execution_count": 22,
   "metadata": {},
   "outputs": [
    {
     "data": {
      "text/plain": [
       "['bonjour', 'hello', 'hola', 'aloha', 'привіт']"
      ]
     },
     "execution_count": 22,
     "metadata": {},
     "output_type": "execute_result"
    }
   ],
   "source": [
    "# changing 2-nd element:\n",
    "h[1]='hello'\n",
    "h"
   ]
  },
  {
   "attachments": {
    "image.png": {
     "image/png": "[encoded data removed]"
    }
   },
   "cell_type": "markdown",
   "metadata": {},
   "source": [
    "Произведено изменение списка h, теперь в памяти будет следующее:\n",
    "\n",
    "![image.png](attachment:image.png)\n",
    "\n",
    "\"Сборщик мусора\" (garbage collector - GC) автоматически очищает ячейку памяти, в которой находится элемент, на который нет ни одной ссылки (ссылка от его имени была переназначена другой ячейке с новым строковым объектом 'hello' - при изменении соответсвующего элемента списка)."
   ]
  },
  {
   "cell_type": "markdown",
   "metadata": {},
   "source": [
    "### Выделение части списка (slices - срезы)"
   ]
  },
  {
   "cell_type": "code",
   "execution_count": 23,
   "metadata": {},
   "outputs": [
    {
     "data": {
      "text/plain": [
       "['hello']"
      ]
     },
     "execution_count": 23,
     "metadata": {},
     "output_type": "execute_result"
    }
   ],
   "source": [
    "g=h[1:2] #taking a section of the list (subset with specified bounds)\n",
    "g"
   ]
  },
  {
   "cell_type": "code",
   "execution_count": 24,
   "metadata": {},
   "outputs": [],
   "source": [
    "del h[0]"
   ]
  },
  {
   "cell_type": "code",
   "execution_count": 25,
   "metadata": {},
   "outputs": [],
   "source": [
    "del h[2:4]"
   ]
  },
  {
   "cell_type": "code",
   "execution_count": 26,
   "metadata": {},
   "outputs": [],
   "source": [
    "del h[:]"
   ]
  },
  {
   "cell_type": "markdown",
   "metadata": {},
   "source": [
    "### Методы списков"
   ]
  },
  {
   "cell_type": "code",
   "execution_count": 27,
   "metadata": {},
   "outputs": [
    {
     "ename": "IndexError",
     "evalue": "list assignment index out of range",
     "output_type": "error",
     "traceback": [
      "\u001b[1;31m---------------------------------------------------------------------------\u001b[0m",
      "\u001b[1;31mIndexError\u001b[0m                                Traceback (most recent call last)",
      "Cell \u001b[1;32mIn[27], line 1\u001b[0m\n\u001b[1;32m----> 1\u001b[0m h [\u001b[38;5;241m1\u001b[39m] \u001b[38;5;241m=\u001b[39m \u001b[38;5;124m'\u001b[39m\u001b[38;5;124mblaaaaa!\u001b[39m\u001b[38;5;124m'\u001b[39m \u001b[38;5;66;03m#you can change the elements of the list (really it substitute the list links)\u001b[39;00m\n\u001b[0;32m      2\u001b[0m h\n",
      "\u001b[1;31mIndexError\u001b[0m: list assignment index out of range"
     ]
    }
   ],
   "source": [
    "h[1] = 'blaaaaa!' #you can change the elements of the list (really it substitute the list links)\n",
    "h #returns after the substitution above ['Hi', 'blaaaaa!', -8.1, [1, 2]]."
   ]
  },
  {
   "cell_type": "markdown",
   "metadata": {},
   "source": [
    "Most useful list methods. More info: https://docs.python.org/3/library/stdtypes.html#list-methods"
   ]
  },
  {
   "cell_type": "code",
   "execution_count": null,
   "metadata": {},
   "outputs": [],
   "source": [
    "len(L) #возвращает число элементов в списке L\n",
    "max(L) #возвращает максимальное значение в списке L\n",
    "min(L) #возвращает минимальное значение в списке L\n",
    "sum(L) #возвращает сумму значений в списке L\n",
    "sorted(L) #возвращает копию списка L, в котором элементы упорядочены по возрастанию. Не изменяет список."
   ]
  },
  {
   "cell_type": "code",
   "execution_count": 28,
   "metadata": {},
   "outputs": [
    {
     "data": {
      "text/plain": [
       "['H', 'B', 'T']"
      ]
     },
     "execution_count": 28,
     "metadata": {},
     "output_type": "execute_result"
    }
   ],
   "source": [
    "#combining lists\n",
    "original=['H','B']\n",
    "final=original+['T']\n",
    "final"
   ]
  },
  {
   "cell_type": "code",
   "execution_count": 29,
   "metadata": {},
   "outputs": [
    {
     "data": {
      "text/plain": [
       "['H', 'B', 'T', 'H', 'B', 'T', 'H', 'B', 'T', 'H', 'B', 'T', 'H', 'B', 'T']"
      ]
     },
     "execution_count": 29,
     "metadata": {},
     "output_type": "execute_result"
    }
   ],
   "source": [
    "#repetition of lisits\n",
    "final=final*5\n",
    "final"
   ]
  },
  {
   "cell_type": "code",
   "execution_count": 30,
   "metadata": {},
   "outputs": [
    {
     "data": {
      "text/plain": [
       "['B', 'T', 'H', 'B', 'T', 'H', 'B', 'T', 'H', 'B', 'T', 'H', 'B', 'T']"
      ]
     },
     "execution_count": 30,
     "metadata": {},
     "output_type": "execute_result"
    }
   ],
   "source": [
    "# deletion of certain element:\n",
    "del final[0]\n",
    "final"
   ]
  },
  {
   "cell_type": "code",
   "execution_count": 31,
   "metadata": {},
   "outputs": [
    {
     "name": "stdout",
     "output_type": "stream",
     "text": [
      "Значение есть в списке\n"
     ]
    },
    {
     "data": {
      "text/plain": [
       "\"Operator 'in' performed linear search so it could slower processing of big lists\""
      ]
     },
     "execution_count": 31,
     "metadata": {},
     "output_type": "execute_result"
    }
   ],
   "source": [
    "#Check the given value existing in given list:\n",
    "h=['bonjour',7,'hola',-1.0,'привіт']\n",
    "if 7 in h:\n",
    "    print ('Значение есть в списке') #returns Значение есть в списке.\n",
    "\n",
    "\"\"\"Operator 'in' performed linear search so it could slower processing of big lists\"\"\""
   ]
  },
  {
   "cell_type": "code",
   "execution_count": null,
   "metadata": {},
   "outputs": [],
   "source": [
    "\"\"\"Substitution operation changes both lists as they elements share the same memory adresses. I.e. both\n",
    "list objects linking on the same memory cells (of course that cells could contain only same values)\"\"\"\n",
    "#Checking the pseudonims:\n",
    "x = y = [1, 2] #creation of pseudonims\n",
    "x is y #operator 'is' - for checking: if pseudonims then returns boolean 'true' (comparing just links, not objs)\n",
    "x = [1, 2] #creation of two different lists\n",
    "y = [1, 2] #but with the same elements\n",
    "x is y #returns boolean 'false'\n",
    "\n",
    "# \"is\" vs \"==\"\n",
    "# \"is\" expressions evaluate to True if two variables point to the same object\n",
    "# \"==\" evaluates to True if the objects referred to by the variables are equal\n",
    "\n",
    "a = [1, 2, 3]\n",
    "b = a\n",
    "a is b\n",
    "#True\n",
    "a == b\n",
    "#True\n",
    "\n",
    "c = list(a)\n",
    "a == c\n",
    "#True\n",
    "a is c\n",
    "#False"
   ]
  },
  {
   "cell_type": "markdown",
   "metadata": {},
   "source": [
    "### Псевдонимы. Режимы копирования."
   ]
  },
  {
   "cell_type": "markdown",
   "metadata": {},
   "source": [
    "<b>Списки-псевдонимы:</b> когда два или более списков содержат имена-ссылки на объекты с одинаковыми адресами в памяти.\n",
    "К спискам, как к другим изменяемым объектам в Python, применимы два вида копирования (<b><a href='https://docs.python.org/3/library/copy.html' a>\"simple\" and \"deep\" copying</b>). Первый вид – поверхностное копирование, при котором создается новый объект, то он будет заполнен ссылками на элементы, которые содержались в оригинале:"
   ]
  },
  {
   "cell_type": "code",
   "execution_count": null,
   "metadata": {},
   "outputs": [],
   "source": [
    "h = ['bonjour', 7, 'hola', -1.0, 'привіт']\n",
    "p = h\n",
    "p"
   ]
  },
  {
   "cell_type": "code",
   "execution_count": null,
   "metadata": {},
   "outputs": [],
   "source": [
    "p [0] = 1\n",
    "p\n",
    "h"
   ]
  },
  {
   "cell_type": "code",
   "execution_count": null,
   "metadata": {},
   "outputs": [],
   "source": [
    "\"\"\"Copying of lists: two types (\"simple\" and \"deep\") methods.\n",
    "Details: https://docs.python.org/3/library/copy.html\"\"\"\n",
    "#simple (\"covering\") copying\n",
    "a = [4, 3, [2, 1]]\n",
    "b = a[:] # but 'b = a' will returns True\n",
    "b is a\n",
    "# False\n",
    "b[2][0]=-100\n",
    "a\n",
    "[4, 3, [-100, 1]] #list was changed too!\n",
    "#\"deep\" copying\n",
    "import copy \n",
    "a = [ 4, 3, [2, 1] ]\n",
    "b = copy.deepcopy(a) #import special copying method\n",
    "b[2][0]=-100\n",
    "a\n",
    "[4, 3, [2, 1]] #list was not changed!"
   ]
  },
  {
   "cell_type": "markdown",
   "metadata": {},
   "source": [
    "### Многомерные списки"
   ]
  },
  {
   "cell_type": "markdown",
   "metadata": {},
   "source": [
    "<b><a href='https://foxford.ru/wiki/informatika/mnogomernye-spiski-v-python' a>Источник.</b> Многомерные списки - списки, содержашие вложенные списки. Таких вложений м.б. сколько угодно."
   ]
  },
  {
   "cell_type": "code",
   "execution_count": 32,
   "metadata": {},
   "outputs": [
    {
     "data": {
      "text/plain": [
       "(True, True, True)"
      ]
     },
     "execution_count": 32,
     "metadata": {},
     "output_type": "execute_result"
    }
   ],
   "source": [
    "A = [ [1, 2, 3], [4, 5, 6] ]\n",
    "\n",
    "# Здесь первая строка списка A[0 ] является списком из чисел [1, 2, 3]. То есть:\n",
    "A[0][0] == 1, A[0][1] == 2, A[0][2] == 3\n",
    "A[1][0] == 4, A[1][1] == 5, A[1][2] == 6"
   ]
  },
  {
   "cell_type": "code",
   "execution_count": 33,
   "metadata": {},
   "outputs": [
    {
     "data": {
      "text/plain": [
       "[[1, 2, 3], [4, 5, 6]]"
      ]
     },
     "execution_count": 33,
     "metadata": {},
     "output_type": "execute_result"
    }
   ],
   "source": [
    "A"
   ]
  },
  {
   "cell_type": "markdown",
   "metadata": {},
   "source": [
    "Для обработки и вывода списка обычно используется два вложенных цикла. Первый цикл по номеру строки, второй цикл по элементам внутри строки. Вывод двумерного числового списка построчно, разделяя числа пробелами внутри одной строки:"
   ]
  },
  {
   "cell_type": "code",
   "execution_count": null,
   "metadata": {},
   "outputs": [],
   "source": [
    "for i in range(len(A)):\n",
    "    for j in range(len(A[i]):\n",
    "       print(A[i][j], end = ' ')\n",
    "    print()\n",
    "                   \n",
    "# То же самое, но циклы не по индексу, а по значениям списка:\n",
    "for row in A:\n",
    "    for elem in row:\n",
    "       print(elem, end = ' ')\n",
    "    print()\n",
    "#  Для вывода одной строки - метод join:\n",
    "for row in A:\n",
    "    print(' '.join(map(str, row)))\n",
    "                   \n",
    "# Два вложенных цикла для подсчета суммы всех чисел в списке:\n",
    "S = 0\n",
    "for i in range(len(A)):\n",
    "    for j in range(len(A[i])):\n",
    "        S += A[i][j]\n",
    "                   \n",
    "# Или то же самое с циклом не по индексу, а по значениям строк:\n",
    "S = 0\n",
    "for row in A:\n",
    "    for elem in row:\n",
    "        S += elem\n"
   ]
  },
  {
   "cell_type": "code",
   "execution_count": null,
   "metadata": {},
   "outputs": [],
   "source": [
    "A = [0] * n\n",
    "for i in range(n):\n",
    "    A[i] = [0] * m\n",
    "    \n",
    "# Другой способ: создать пустой список, потом n раз добавить в него новый элемент, являющийся списком-строкой:\n",
    "A = []\n",
    "for i in range(n):\n",
    "    A.append([0] * m)\n",
    "    \n",
    "# Проще работать с генератором: создать список из n элементов, каждый из которых будет списком, состоящих из m нулей:\n",
    "A = [[0] * m for i in range(n)]\n",
    "\n",
    "'''Тут каждый элемент создается независимо от остальных (заново конструируется список [0] * m для заполнения \n",
    "очередного элемента списка), а не копируются ссылки на один и тот же список.'''"
   ]
  },
  {
   "cell_type": "code",
   "execution_count": 35,
   "metadata": {},
   "outputs": [
    {
     "data": {
      "text/plain": [
       "[[0, 0, 0, 0, 0, 0],\n",
       " [0, 0, 0, 0, 0, 0],\n",
       " [0, 0, 0, 0, 0, 0],\n",
       " [0, 0, 0, 0, 0, 0],\n",
       " [0, 0, 0, 0, 0, 0]]"
      ]
     },
     "execution_count": 35,
     "metadata": {},
     "output_type": "execute_result"
    }
   ],
   "source": [
    "n = 5\n",
    "m = 6\n",
    "\n",
    "A = []\n",
    "for i in range(n):\n",
    "    A.append([0] * m)\n",
    "    \n",
    "A"
   ]
  },
  {
   "cell_type": "markdown",
   "metadata": {},
   "source": [
    "#### SUBFOLDED (NESTED) LISTS (they used for instance as matrices containers)\n",
    "Вложенные списки - для хранения 2D, 3D и массивов большей размерности, ограничения на количество вложений нет."
   ]
  },
  {
   "cell_type": "code",
   "execution_count": null,
   "metadata": {},
   "outputs": [],
   "source": [
    "lst=[['A', 1], ['B',2], ['C',3]]\n",
    "lst #[['A', 1], ['B', 2], ['C', 3]]\n",
    "lst[0] #['A', 1]\n",
    "lst[0][1] #1 - calling the element of subfolded list by 2-nd index\n",
    "lst2=[['A', 1], ['B', 2], [['C', 3], [9, 17]]]\n",
    "lst2[2][1][1]\n",
    "17 #it extracts from double subfolding"
   ]
  },
  {
   "attachments": {
    "image.png": {
     "image/png": "[encoded data removed]"
    }
   },
   "cell_type": "markdown",
   "metadata": {},
   "source": [
    "Схематично вложенные списки выглядят следующим образом:\n",
    "\n",
    "![image.png](attachment:image.png)"
   ]
  },
  {
   "cell_type": "markdown",
   "metadata": {},
   "source": [
    "#### LISTS CREATION\n",
    "<b>List generators: <a href='https://www.python.org/dev/peps/pep-0289/' a>official docs</b> \n",
    "<b>Other sources:</b>\n",
    "<b><a href='https://younglinux.info/python/feature/generators' a> 1</b>, <b><a href='https://all-python.ru/osnovy/generator-spiska.html' a> 2</b>, [<b>3</b>](https://realpython.com/introduction-to-python-generators/) - awesome RealPython =)"
   ]
  },
  {
   "attachments": {
    "image.png": {
     "image/png": "[encoded data removed]"
    }
   },
   "cell_type": "markdown",
   "metadata": {},
   "source": [
    "<b>Правила работы спискового включения (list comprehension):</b>\n",
    "\n",
    "![image.png](attachment:image.png)\n",
    "\n",
    "В следующем примере выбираем из диапазона все числа от 1 до 14, возводим их в квадрат и сразу формируем из них новый список. Списковое включение позволяет задавать условие для выбора значения из диапазона (в\n",
    "примере исключили значение 4):"
   ]
  },
  {
   "cell_type": "code",
   "execution_count": 40,
   "metadata": {},
   "outputs": [
    {
     "data": {
      "text/plain": [
       "[0, 1, 2, 3, 4, 5, 6, 7, 8, 9]"
      ]
     },
     "execution_count": 40,
     "metadata": {},
     "output_type": "execute_result"
    }
   ],
   "source": [
    "a = [0,1,2,3,4,5,6,7,8,9]\n",
    "a"
   ]
  },
  {
   "cell_type": "code",
   "execution_count": 45,
   "metadata": {},
   "outputs": [
    {
     "data": {
      "text/plain": [
       "[36, 49, 64, 81]"
      ]
     },
     "execution_count": 45,
     "metadata": {},
     "output_type": "execute_result"
    }
   ],
   "source": [
    "# vals = [expression for value in collection if condition]\n",
    "a = [x**2 for x in range(10) if x > 5]\n",
    "a"
   ]
  },
  {
   "cell_type": "code",
   "execution_count": null,
   "metadata": {},
   "outputs": [],
   "source": [
    "sum(list(range(1, 101))) # counting sum of all elements\n",
    "\n",
    "#1---------#lists initializing in cycle for empty list\n",
    "a = []\n",
    "for i in range(1,15): \n",
    "    a.append(i)\n",
    "a\n",
    "#[1, 2, 3, 4, 5, 6, 7, 8, 9, 10, 11, 12, 13, 14]\n",
    "#2---------directly from the specified range\n",
    "a = list(range(1, 15)) \n",
    "a\n",
    "#[1, 2, 3, 4, 5, 6, 7, 8, 9, 10, 11, 12, 13, 14]\n",
    "#3---------'list comprehension' with 'for' ('generator')\n",
    "a = [i for i in range(1,15)]\n",
    "a\n",
    "#[1, 2, 3, 4, 5, 6, 7, 8, 9, 10, 11, 12, 13, 14]"
   ]
  },
  {
   "cell_type": "code",
   "execution_count": null,
   "metadata": {},
   "outputs": [],
   "source": [
    "# Python's list comprehensions are awesome.\n",
    "# vals = [expression for value in collection if condition]\n",
    "\n",
    "# This is equivalent to:\n",
    "vals = []\n",
    "for value in collection:\n",
    "    if condition:\n",
    "        vals.append(expression)\n",
    "        \n",
    "even_squares = [x * x for x in range(10) if x % 2]\n",
    "even_squares\n",
    "\n",
    "x = 5\n",
    "if x%2: print ('yes') # if no == or != after % operator - it works as if reminder exist (!=0)"
   ]
  },
  {
   "cell_type": "markdown",
   "metadata": {},
   "source": [
    "### Функции"
   ]
  },
  {
   "cell_type": "markdown",
   "metadata": {},
   "source": [
    "<b>Функции</b> - обособленные элементы кода, внутри которых происходят различные дествия с входными данными (аргументы функции, обычно 1 или более - определяется разработчиком). Обычно функции возвращают результат обработки (1 или более - определяется разработчиком), но могут этого и не делать."
   ]
  },
  {
   "cell_type": "markdown",
   "metadata": {},
   "source": [
    "Инициализация (\"объявление\") функций - ключевое слово <b>def</b>, после которого идет имя функции (правила наименования переменных!) и в скобках - парамер или параметры, после закрывающей скобки двоеточие. Все что после <b>def</b> идет с отступом, это \"тело\" фунекции. Указание что функция должна вернуть как результат - ключевое слово <b>return</b> (принимает выражения)."
   ]
  },
  {
   "cell_type": "code",
   "execution_count": 48,
   "metadata": {},
   "outputs": [],
   "source": [
    "# declare a function, docstring in triple-quoted multiline comment\n",
    "def add(x, y):\n",
    "    '''\n",
    "    Sums up two arguments\n",
    "    add(2, 4) --> 6\n",
    "    '''\n",
    "    return x + y"
   ]
  },
  {
   "cell_type": "markdown",
   "metadata": {},
   "source": [
    "Best practices: писать т.н. <b>docstring</b> - краткую справку или памятку что функция делает (обычно в виде многострочного комментария)."
   ]
  },
  {
   "cell_type": "code",
   "execution_count": 47,
   "metadata": {},
   "outputs": [
    {
     "name": "stdout",
     "output_type": "stream",
     "text": [
      "Help on function add in module __main__:\n",
      "\n",
      "add(x, y)\n",
      "    Sums up two arguments\n",
      "    add(2, 4) --> 6\n",
      "\n"
     ]
    }
   ],
   "source": [
    "help(add)"
   ]
  },
  {
   "cell_type": "markdown",
   "metadata": {},
   "source": [
    "Выше - объявление функции, само по себе оно ничего не вычисляет, но связывает с именем и заносит ее как объект в память. Позже при упоминании имени (\"вызове\") функуции она уже будет обрабатывать данные:"
   ]
  },
  {
   "cell_type": "code",
   "execution_count": 54,
   "metadata": {},
   "outputs": [
    {
     "data": {
      "text/plain": [
       "19.0"
      ]
     },
     "execution_count": 54,
     "metadata": {},
     "output_type": "execute_result"
    }
   ],
   "source": [
    "a = 7.0\n",
    "b = 12\n",
    "add(a, b)"
   ]
  },
  {
   "cell_type": "markdown",
   "metadata": {},
   "source": [
    "Результат работы функции можно сразу при вызове присваивать как занчение какому-то имени (переменной):"
   ]
  },
  {
   "cell_type": "code",
   "execution_count": 57,
   "metadata": {},
   "outputs": [],
   "source": [
    "ab = add(a, b)"
   ]
  },
  {
   "cell_type": "code",
   "execution_count": 58,
   "metadata": {},
   "outputs": [
    {
     "data": {
      "text/plain": [
       "19.0"
      ]
     },
     "execution_count": 58,
     "metadata": {},
     "output_type": "execute_result"
    }
   ],
   "source": [
    "ab"
   ]
  },
  {
   "cell_type": "markdown",
   "metadata": {},
   "source": [
    "Функции м.б. также вложены друг в друга (теоретически) неограниченное число раз. На практике в разработке вложенные функции редко нужны. Также функции м. принимать другие функции как агрументы:"
   ]
  },
  {
   "cell_type": "code",
   "execution_count": 59,
   "metadata": {},
   "outputs": [],
   "source": [
    "def inner(x):\n",
    "    return x*2\n",
    "\n",
    "def outer(inner):\n",
    "    return(inner + inner*0.5)**2"
   ]
  },
  {
   "cell_type": "code",
   "execution_count": 60,
   "metadata": {},
   "outputs": [
    {
     "data": {
      "text/plain": [
       "20.25"
      ]
     },
     "execution_count": 60,
     "metadata": {},
     "output_type": "execute_result"
    }
   ],
   "source": [
    "n = 3\n",
    "outer(n)"
   ]
  },
  {
   "cell_type": "markdown",
   "metadata": {},
   "source": [
    "- <b>Функция</b>: Принимает 1 или более аргументов и возвращает 1 или более результатов обработки.\n",
    "- <b>Модуль</b>: отдельный python-файл (с расширением <b>.py</b>), который м.б. импортирован в проект через команду <b>import</b>/. Создать python-файл: написать код в обычном текстовом файле (<b>.txt</b>) и поменять расширение на <b>.py</b> - файл будет автоматически распознаваться установленным интерпретатором python."
   ]
  },
  {
   "cell_type": "markdown",
   "metadata": {},
   "source": [
    "<b>А теперь немного магии:</b>\n",
    "- Объявляем собсвтенные пользовательские функции\n",
    "- Пишем в начале ячейки (и без комменатриев после) магическую команду для среды jupyter: наши функуции запишутся в отдельный файл с именем functions расширением .py, т.е. мини-модуль.\n",
    "- Импортируем собственный модуль в текущий проект\n",
    "- Используем функции из него просто обратившись к их именам через имя модуля (через точку)\n",
    "\n",
    "Подробнее о <b><a href='https://ipython.readthedocs.io/en/stable/interactive/magics.html' a>jupyter magic commands</b>. "
   ]
  },
  {
   "cell_type": "code",
   "execution_count": 61,
   "metadata": {},
   "outputs": [
    {
     "name": "stdout",
     "output_type": "stream",
     "text": [
      "Overwriting functions.py\n"
     ]
    }
   ],
   "source": [
    "%%writefile functions.py\n",
    "\n",
    "'''this first line is Jupyter cell magic, allows to write a toy module\n",
    "with functions declared above'''\n",
    "\n",
    "def add(x, y):\n",
    "    '''\n",
    "    Sums up two arguments\n",
    "    add(2, 4) --> 6\n",
    "    '''\n",
    "    return x + y\n",
    "\n",
    "def root(val):\n",
    "    '''\n",
    "    Returns square root of the value\n",
    "    roots(4) --> 2.0\n",
    "    '''\n",
    "    return val**0.5"
   ]
  },
  {
   "cell_type": "code",
   "execution_count": 62,
   "metadata": {},
   "outputs": [
    {
     "name": "stdout",
     "output_type": "stream",
     "text": [
      "4.9140465044953086\n"
     ]
    }
   ],
   "source": [
    "import math\n",
    "import functions as fn\n",
    "\n",
    "b = fn.add(math.pi, fn.root(math.pi)) \n",
    "print(b)"
   ]
  },
  {
   "cell_type": "markdown",
   "metadata": {},
   "source": [
    "## Дополнительный матриал"
   ]
  },
  {
   "cell_type": "markdown",
   "metadata": {},
   "source": [
    "### Больше списковых методов, БОООЛЬШЕЕЕ!\n",
    "- <b><a href='https://docs.python.org/3/tutorial/datastructures.html#more-on-lists' a>Official docs</b>\n",
    "- <b><a href='https://pythonworld.ru/tipy-dannyx-v-python/spiski-list-funkcii-i-metody-spiskov.html' a>list methods</b>"
   ]
  },
  {
   "cell_type": "code",
   "execution_count": null,
   "metadata": {},
   "outputs": [],
   "source": [
    "colors=['red', 'orange', 'green']\n",
    "colors.extend(['black','blue']) # расширяет список списком\n",
    "colors #['red', 'orange', 'green', 'black', 'blue']\n",
    "colors.append('purple') # добавляет элемент в список\n",
    "colors #['red', 'orange', 'green', 'black', 'blue', 'purple']\n",
    "colors.insert(2,'yellow') # добавляет элемент в указанную позицию\n",
    "colors #['red', 'orange', 'yellow', 'green', 'black', 'blue', 'purple']\n",
    "colors.remove('black') # удаляет элемент из списка\n",
    "colors #['red', 'orange', 'yellow', 'green', 'blue', 'purple']\n",
    "colors.count('red') #returns 1: считает количество повторений аргумента метода\n",
    "colors.index('green') #returns 3: возвращает позицию в списке аргумента метода\n",
    "colors.pop() #returns 'purple': удаляет и возвращает последний элемент списка\n",
    "colors #['red', 'orange', 'yellow', 'green', 'blue']\n",
    "colors.reverse() # список в обратном порядке\n",
    "colors #['blue', 'green', 'yellow', 'orange', 'red']\n",
    "colors.sort() # сортирует список (вспомните о сравнении строк)\n",
    "colors #['blue', 'green', 'orange', 'red', 'yellow']\n",
    "colors.clear() # очищает список. Метод появился в версии 3.3. Аналог del color[:]\n",
    "colors #[]"
   ]
  },
  {
   "cell_type": "markdown",
   "metadata": {},
   "source": [
    "Что такое [<b>list comprehension</b>](https://devman.org/qna/5/chto-takoe-list-comprehension-zachem-ono-kakie-esche-byvajut/) - краткое разъяснение"
   ]
  },
  {
   "cell_type": "code",
   "execution_count": null,
   "metadata": {},
   "outputs": [],
   "source": [
    "list_1, list_2, list_3 = [],[],[] # empty lists could be initialized as series on one line of code"
   ]
  },
  {
   "cell_type": "code",
   "execution_count": null,
   "metadata": {},
   "outputs": [],
   "source": [
    "a = [0,1,2,3,4,5,6,7]\n",
    "b = [[i,a[i]] for i in a]\n",
    "b\n",
    "\n",
    "c = {1:10, 2:20, 3:30}\n",
    "d = [[i,c[i]] for i in c]\n",
    "d\n",
    "\n",
    "'''e = [j for i in k for j in i] # the same as:\n",
    "\n",
    "e = []\n",
    "for i in k:\n",
    "    for j in i:\n",
    "        e.append(j)'''\n",
    "        \n",
    "f = [i for i in range(30,250) if i%30 == 0 or i%31 == 0] # with if statement within generator\n",
    "f\n",
    "\n",
    "g = [i * j for i in range(0, 3) for j in range(0, 3)] #combinations\n",
    "g\n",
    "\n",
    "h = [[i * j for i in range(0, 3)] for j in range(0, 3)] # internal lists\n",
    "h\n",
    "\n",
    "l = [(lambda i: i*i)(i) for i in range(0, 10)] # use lambda\n",
    "l\n",
    "\n",
    "import itertools # advanced generation with itertools lib\n",
    "m = [i for i in itertools.repeat(1, 5)]\n",
    "m"
   ]
  },
  {
   "cell_type": "code",
   "execution_count": null,
   "metadata": {},
   "outputs": [],
   "source": [
    "a = [i**2 for i in range(1,15)] #list with square values in one line!\n",
    "a = [i**2 for i in range(1,15) if i!=4] #same and with certain elem. exclusion\n",
    "\n",
    "#4---------on the basis of existing list\n",
    "a = [2, -2, 4, -4, 7, 5]\n",
    "b = [i**2 for i in a] # existing list istead of range ()\n",
    "b\n",
    "#[4, 4, 16, 16, 49, 25]\n",
    "\n",
    "c = [c*3 for c in 'list' if c != 'i'] #also with string type\n",
    "c #['lll', 'sss', 'ttt']\n",
    "\n",
    "#5---------mapping ('map' func): combining any func with seed sequence\n",
    "def f(x):\n",
    "    return x+5\n",
    "list(map(f,[1,3,4]))\n",
    "list #[6, 8, 9]\n",
    "\n",
    "#funcs as 'map' recieving another funcs as input (so called 'high order' funcs)\n",
    "#6---------list with random integers (other rnd types available)\n",
    "from random import randint #importing func 'randint' from 'random' module\n",
    "A = [randint(1, 9) for i in range(5)] #range val as counter = list length\n",
    "A #[2, 1, 1, 7, 8]\n",
    "#7---------catching vals from keyboard input\n",
    "a = [] #empty list\n",
    "n = int (input()) # считываем количество элемент в списке (ввод с клавиатуры)\n",
    "for i in range(n):\n",
    "    new_element = int(input()) # считываем очередной элемент\n",
    "    a.append(new_element) # добавляем его в список\n",
    "# последние две строки можно было заменить одной: a.append(int(input()))\n",
    "print(a)\n",
    "\n",
    "# the same task within one line of code via list comprehension:\n",
    "a = [int(input()) for i in range(int(input()))]"
   ]
  },
  {
   "cell_type": "markdown",
   "metadata": {},
   "source": [
    "Generator can directly accept file as iterable object and perform some modifications with elements - all just in one line of code!"
   ]
  },
  {
   "cell_type": "code",
   "execution_count": null,
   "metadata": {},
   "outputs": [],
   "source": [
    "line = [line.strip ().split ('\\t') for line in open ('my_file.csv', 'r')]"
   ]
  },
  {
   "cell_type": "markdown",
   "metadata": {},
   "source": [
    "Easy way to pass each i-th element of list_1 to list_2:"
   ]
  },
  {
   "cell_type": "code",
   "execution_count": null,
   "metadata": {},
   "outputs": [],
   "source": [
    "list_2 = list_1[::i]"
   ]
  },
  {
   "cell_type": "markdown",
   "metadata": {},
   "source": [
    "<b><a href='https://lerner.co.il/2019/06/06/why-do-python-lists-let-you-a-tuple-when-you-cant-a-tuple/Интересный' a> Сложение списков, кортежей, словарей с помощью '+='</b>"
   ]
  },
  {
   "cell_type": "code",
   "execution_count": null,
   "metadata": {
    "ExecuteTime": {
     "end_time": "2019-06-12T13:12:59.449322Z",
     "start_time": "2019-06-12T13:12:59.437321Z"
    }
   },
   "outputs": [],
   "source": [
    "# traditional approach:\n",
    "mylist = [10, 20, 30]\n",
    "new_items = [40, 50, 60]\n",
    "for one_item in new_items:\n",
    "    mylist.append(one_item)\n",
    "print(mylist)"
   ]
  },
  {
   "cell_type": "code",
   "execution_count": null,
   "metadata": {
    "ExecuteTime": {
     "end_time": "2019-06-12T13:13:02.297485Z",
     "start_time": "2019-06-12T13:13:02.283484Z"
    }
   },
   "outputs": [],
   "source": [
    "# += operator invokes the “iadd” (“inplace add”) method on the object to its left part. Little bit slowler but smarter =)\n",
    "mylist = [10, 20, 30]\n",
    "new_items = [40, 50, 60]\n",
    "mylist += new_items\n",
    "print(mylist)"
   ]
  },
  {
   "cell_type": "markdown",
   "metadata": {
    "ExecuteTime": {
     "end_time": "2019-06-12T13:16:25.721120Z",
     "start_time": "2019-06-12T13:16:25.711119Z"
    }
   },
   "source": [
    "Сложить кортеж и список? Так не получится:"
   ]
  },
  {
   "cell_type": "code",
   "execution_count": null,
   "metadata": {
    "ExecuteTime": {
     "end_time": "2019-06-12T13:16:43.234122Z",
     "start_time": "2019-06-12T13:16:43.210120Z"
    },
    "scrolled": true
   },
   "outputs": [],
   "source": [
    "mylist = [10, 20, 30]\n",
    "t = (40, 50, 60)\n",
    "mylist + t"
   ]
  },
  {
   "cell_type": "markdown",
   "metadata": {},
   "source": [
    "А так?"
   ]
  },
  {
   "cell_type": "code",
   "execution_count": null,
   "metadata": {
    "ExecuteTime": {
     "end_time": "2019-06-12T13:18:02.703667Z",
     "start_time": "2019-06-12T13:18:02.689666Z"
    }
   },
   "outputs": [],
   "source": [
    "mylist = [10, 20, 30]\n",
    "t = (40, 50, 60)\n",
    "mylist += t\n",
    "mylist\n",
    "\n",
    "# Explaination:\n",
    "x += 5 # --> method x.__add__(y): invoke the method, and then assign it back to the variable “x”\n",
    "x = x + 5 # --> method x = x.__add__(y): “x” isn’t changing; rather, the variable is now referencing a new object"
   ]
  },
  {
   "cell_type": "code",
   "execution_count": null,
   "metadata": {
    "ExecuteTime": {
     "end_time": "2019-06-05T17:32:56.154039Z",
     "start_time": "2019-06-05T17:32:56.126038Z"
    }
   },
   "outputs": [],
   "source": [
    "id() # returns the object’s memory address.\n",
    "is # returns True if and only if two objects have the same memory address.\n",
    "\n",
    "# Python's list slice syntax can be used without indices for a few fun and useful things:\n",
    "\n",
    "# You can clear all elements from a list:\n",
    "lst = [1, 2, 3, 4, 5]\n",
    "del lst[:]\n",
    "\n",
    "# You can replace all elements of a list\n",
    "# without creating a new list object:\n",
    "a = lst\n",
    "lst[:] = [7, 8, 9]\n",
    "lst\n",
    "#[7, 8, 9]\n",
    "a\n",
    "#[7, 8, 9]\n",
    "a is lst\n",
    "#True\n",
    "\n",
    "# You can also create a (shallow) copy of a list:\n",
    "b = lst[:]\n",
    "b\n",
    "#[7, 8, 9]\n",
    "b is lst\n",
    "#False"
   ]
  },
  {
   "cell_type": "code",
   "execution_count": null,
   "metadata": {},
   "outputs": [],
   "source": [
    "# Pythonic ways of checking if all items in a list are equal: from \"most Pythonic\" to \"least Pythonic\" \n",
    "# and  \"least efficient\" to \"most efficient\". The len(set()) solution is idiomatic,  \n",
    "# but constructing a set is less efficient memory and speed-wise.\n",
    "\n",
    "lst = ['a', 'a', 'a']\n",
    "\n",
    "len(set(lst)) == 1\n",
    "# True\n",
    "\n",
    "all(x == lst[0] for x in lst)\n",
    "# True\n",
    "\n",
    "lst.count(lst[0]) == len(lst)\n",
    "# True"
   ]
  },
  {
   "cell_type": "markdown",
   "metadata": {},
   "source": [
    "list > list comprehension: [<b>memory usage</b>](https://stackoverflow.com/questions/40018398/list-uses-slightly-more-memory-than-list-comprehension), также [<b>по теме</b>](https://toster.ru/q/614940)"
   ]
  },
  {
   "cell_type": "markdown",
   "metadata": {},
   "source": [
    "### Тип данных словарь (dict)"
   ]
  },
  {
   "cell_type": "markdown",
   "metadata": {},
   "source": [
    "<b>Словарь</b> (dict) – неупорядоченная изменяемая коллекция или «список» с произвольными ключами неизменяемого типа. Как ис список, словарь может хранить различные типы, в т.ч. вложенные структуры данных. В большинстве случаев поиск по ключам словаря не зависит от времени (поиск по словарю из 100 сотрудников будет занимать почти такое же время, как и по словарю из 100 тысяч сотрудников) - т.е. алгоритмическая сложность по времени = <b>О(1)</b>. И это гораздо быстрее, чем перебор элементов аналогичного списка - линейная сложность <b>O(n)</b>\n",
    "\n",
    "Ключами словаря могут быть значения только hashable типов, то есть типов, у которых может быть получен хэш (для этого у них должен быть метод __hash__()). Обычно, <b>hash ()</b> есть только у неизменяемых типов. Поэтому такие типы, как список (list), множество (set) и сам словарь (dict), не могут быть ключами словаря. А вот кортеж (tuple), строка (string) или число (int, float) - могут. Чаще всего это строки.\n",
    "\n",
    "<b>Подробнее о словарях в Python: </b><b><a href='https://habr.com/ru/post/247843/' a>1</b>, <b> <a href='https://tproger.ru/explain/python-dictionaries/' a>2</b>"
   ]
  },
  {
   "cell_type": "code",
   "execution_count": null,
   "metadata": {
    "ExecuteTime": {
     "end_time": "2019-07-22T12:33:14.124412Z",
     "start_time": "2019-07-22T12:33:14.112411Z"
    }
   },
   "outputs": [],
   "source": [
    "# Dicts, dict methods etc\n",
    "a = dict () # empty dict\n",
    "a"
   ]
  },
  {
   "cell_type": "code",
   "execution_count": null,
   "metadata": {
    "ExecuteTime": {
     "end_time": "2019-07-22T11:57:02.160182Z",
     "start_time": "2019-07-22T11:57:02.128180Z"
    }
   },
   "outputs": [],
   "source": [
    "eng2spa = {} # создаем пустой словарь для задания соответствий слов ENG --> SPA:\n",
    "eng2spa\n",
    "#{}\n",
    "eng2spa['one']='uno' # обращение к элементу - по индексу: добавляем 'uno' для элемента с индексом 'one'\n",
    "eng2spa\n",
    "#{'one': 'uno'}\n",
    "eng2spa['one']\n",
    "#'uno'\n",
    "eng2spa['two']='dos'\n",
    "eng2spa['three']='tres'\n",
    "eng2spa\n",
    "#{'three': 'tres', 'one': 'uno', 'two': 'dos'}\n",
    "\n",
    "'''Результирующий словарь eng2spa отобразился в «перемешанном» виде, т.к., по аналогии с множествами, словари - \n",
    "неупорядоченные коллекции'''\n",
    "\n",
    "# Индексы словаря - неизменяемые - можно пользоваться кортежами, т.к. они тоже неизменяемые:\n",
    "e = {}\n",
    "e\n",
    "#{}\n",
    "e[(4,'6')] = '1'\n",
    "e\n",
    "#{(4, '6'): '1'}\n",
    "\n",
    "# К словарям применим оператор in:\n",
    "eng2spa\n",
    "#{'three': 'tres', 'one': 'uno', 'two': 'dos'}\n",
    "'one' in eng2spa # поиск по множеству КЛЮЧЕЙ\n",
    "#True"
   ]
  },
  {
   "cell_type": "markdown",
   "metadata": {},
   "source": [
    "Перебор ключей словаря в цикле:"
   ]
  },
  {
   "cell_type": "code",
   "execution_count": null,
   "metadata": {
    "ExecuteTime": {
     "end_time": "2019-07-22T11:52:53.178941Z",
     "start_time": "2019-07-22T11:52:53.141939Z"
    }
   },
   "outputs": [],
   "source": [
    "employee_base = {\n",
    "    'Мария Никитина': 'менеджер', \n",
    "    'Егор Савичев': 'разработчик', \n",
    "    'Александр Пахомов': 'дизайнер', \n",
    "    'Алина Егорова': 'разработчик', \n",
    "    'Руслан Башаров': 'верстальщик'\n",
    "}\n",
    "for employee in employee_base:\n",
    "    print(employee)\n",
    "\n",
    "# То же самое с использованием метода keys ():\n",
    "for employee in employee_base.keys():\n",
    "    print(employee)\n",
    "\n",
    "# фильтрация заданных значений словаря\n",
    "for employee in employee_base:\n",
    "    if employee_base[employee] == 'разработчик':\n",
    "        print(employee)\n",
    "        \n",
    "# Перебор ключей и значений словаря одновременно - метод items:\n",
    "for employee, position in employee_base.items():\n",
    "    print(employee, position)"
   ]
  },
  {
   "cell_type": "markdown",
   "metadata": {},
   "source": [
    "Удаление значения по ключу: метод <b>del</b>.  Метод <b>pop()</b> удаляет ключ и возвращает соответствующее ему значение:"
   ]
  },
  {
   "cell_type": "code",
   "execution_count": null,
   "metadata": {
    "ExecuteTime": {
     "end_time": "2019-07-22T11:49:35.971662Z",
     "start_time": "2019-07-22T11:49:35.948660Z"
    }
   },
   "outputs": [],
   "source": [
    "del employee_base['Егор Савичев']\n",
    "print(employee_base)\n",
    "\n",
    "a = eng2spa.pop('three')\n",
    "print (eng2spa)\n",
    "print (a)"
   ]
  },
  {
   "cell_type": "markdown",
   "metadata": {},
   "source": [
    "Метод <b>update()</b> - если нужно обновить несколько пар сразу (принимает другой словарь как аргумент)"
   ]
  },
  {
   "cell_type": "code",
   "execution_count": null,
   "metadata": {
    "ExecuteTime": {
     "end_time": "2019-07-22T11:41:26.014638Z",
     "start_time": "2019-07-22T11:41:25.998637Z"
    }
   },
   "outputs": [],
   "source": [
    "employee_base.update({'Мария Никитина': 'директор',\n",
    "                   'Алина Егорова': 'старший разработчик'})\n",
    "employee_base"
   ]
  },
  {
   "cell_type": "markdown",
   "metadata": {},
   "source": [
    "Словарь телефонов - проверить корректность номера Кузнецовой Дарьи: если ее номер в базе равен 5142 - вывести “Номер верен”. Решение задачи несколькими способами: "
   ]
  },
  {
   "cell_type": "code",
   "execution_count": null,
   "metadata": {
    "ExecuteTime": {
     "end_time": "2019-05-27T10:22:01.940453Z",
     "start_time": "2019-05-27T10:22:01.912952Z"
    }
   },
   "outputs": [],
   "source": [
    "phones = {\n",
    "\t'Гордиенко Виктория': 5140,\n",
    "\t'Анисимов Кирилл': 5145,\n",
    "\t'Кузнецова Дарья': 5142\n",
    "}\n",
    "\n",
    "if phones['Кузнецова Дарья'] == 5142: # 1\n",
    "\tprint('Номер верен')\n",
    "    \n",
    "for name, phone in phones.items():\n",
    "\tif name == 'Кузнецова Дарья' and phone == 5142: # 2\n",
    "\t\tprint('Номер верен')\n",
    "\n",
    "for record in phones: # 3\n",
    "\tif record == 'Кузнецова Дарья' and phones[record] == 5142:\n",
    "\t\tprint('Номер верен')     "
   ]
  },
  {
   "cell_type": "markdown",
   "metadata": {},
   "source": [
    "Работа с пропущенными ключами словаря: (1) заранее проверить есть ли в словаре нужный ключ (проверка if). Если есть в - вывод значения, если нет — пишем предупреждение:"
   ]
  },
  {
   "cell_type": "code",
   "execution_count": null,
   "metadata": {},
   "outputs": [],
   "source": [
    "employee_base = {\n",
    "    'Мария Никитина':'+79033923029',\n",
    "    'Егор Савичев':'+78125849204',\n",
    "    'Александр Пахомов':'+79053049385',\n",
    "    'Алина Егорова':'+79265748370',\n",
    "    'Руслан Башаров':'+79030598495'\n",
    "}\n",
    "\n",
    "request = ['Мария Никитина', 'Егор Савичев', 'Алексей Чернышевский']\n",
    "\n",
    "for name in request: # (1)\n",
    "    if name in employee_base:\n",
    "        print(employee_base[name])\n",
    "    else:\n",
    "        print('Неизвестный сотрудник')\n",
    "\n",
    "for name in request: # (2)\n",
    "    employee_base.setdefault(name, 'Неизвестный сотрудник')\n",
    "    print(employee_base[name])"
   ]
  },
  {
   "cell_type": "markdown",
   "metadata": {},
   "source": [
    "(2) метод <b>setdefault()</b>. Он позволяет назначить ключу словаря определенное значение:"
   ]
  },
  {
   "cell_type": "code",
   "execution_count": null,
   "metadata": {
    "ExecuteTime": {
     "end_time": "2019-05-27T09:36:35.147534Z",
     "start_time": "2019-05-27T09:36:35.132533Z"
    }
   },
   "outputs": [],
   "source": [
    "simple_dict = {'a': 1}\n",
    "\n",
    "simple_dict.setdefault('b', 0) # new unique key 'b'\n",
    "print(simple_dict)"
   ]
  },
  {
   "cell_type": "markdown",
   "metadata": {},
   "source": [
    "Однако, если этот ключ в словаре уже есть, то это значение будет оставлено без изменений:"
   ]
  },
  {
   "cell_type": "code",
   "execution_count": null,
   "metadata": {
    "ExecuteTime": {
     "end_time": "2019-06-09T17:28:58.540770Z",
     "start_time": "2019-06-09T17:28:58.526769Z"
    },
    "scrolled": true
   },
   "outputs": [],
   "source": [
    "simple_dict = {'a': 1, 'b': 0}\n",
    "\n",
    "simple_dict.setdefault('b', 5) # key 'b' already exists\n",
    "print(simple_dict)"
   ]
  },
  {
   "cell_type": "markdown",
   "metadata": {},
   "source": [
    "Метод <b>dict.get ('key', val)</b> - если ключ key есть в словаре вернет его значение, если нет - вернет <b>val</b>. Один из способов решения проблемы отсутствующих ключей."
   ]
  },
  {
   "cell_type": "code",
   "execution_count": null,
   "metadata": {
    "ExecuteTime": {
     "end_time": "2019-07-22T11:24:19.320915Z",
     "start_time": "2019-07-22T11:24:19.294913Z"
    }
   },
   "outputs": [],
   "source": [
    "dict = {'a': 1, 'b': 2, 'c': 3}\n",
    "dict.get ('a', 4) # 1\n",
    "dict.get ('d', 4) # 4"
   ]
  },
  {
   "cell_type": "markdown",
   "metadata": {},
   "source": [
    "Методы словаря <b>keys()</b> возвращаяют <b>специальный объект</b> (set-подобную коллекцию) - т.е. можно проверять логические пересечения и др. операции с множествами для ключей. Но только для <b>keys()</b>, не для<b>values()</b> или <b>items()</b>"
   ]
  },
  {
   "cell_type": "code",
   "execution_count": null,
   "metadata": {
    "ExecuteTime": {
     "end_time": "2019-06-09T17:41:34.863029Z",
     "start_time": "2019-06-09T17:41:34.846028Z"
    }
   },
   "outputs": [],
   "source": [
    "dict1 = {'a': 1, 'b': 2, 'c': 3}\n",
    "dict2 = {'b': 2, 'c': 3, 'd': 2, 'e': 3}\n",
    "key_set = dict1.keys() & dict2.keys() \n",
    "key_set # пересечение множеств имен ключей. Удобная проверка содержания словарей"
   ]
  },
  {
   "cell_type": "markdown",
   "metadata": {},
   "source": [
    "Подобно генераторам списков (list comprehensions), есть и <b>генераторы для словарей</b>: отличие только выражении вида <b>k:v</b> в начале (k - key, v - value). Здесь <b>k = i, v = i \\* i</b>"
   ]
  },
  {
   "cell_type": "code",
   "execution_count": null,
   "metadata": {
    "ExecuteTime": {
     "end_time": "2019-07-22T11:27:27.325668Z",
     "start_time": "2019-07-22T11:27:27.311667Z"
    }
   },
   "outputs": [],
   "source": [
    "my_dict = {i: i * i for i in range(10)} \n",
    "print (my_dict)"
   ]
  },
  {
   "cell_type": "markdown",
   "metadata": {},
   "source": [
    "<b>Модуль pprint</b> - более читаемый вывод на экран словарей и списков, а также файлов JSON:"
   ]
  },
  {
   "cell_type": "code",
   "execution_count": null,
   "metadata": {
    "ExecuteTime": {
     "end_time": "2019-07-22T11:27:37.849269Z",
     "start_time": "2019-07-22T11:27:37.828268Z"
    }
   },
   "outputs": [],
   "source": [
    "from pprint import pprint \n",
    "pprint(my_dict)"
   ]
  },
  {
   "cell_type": "code",
   "execution_count": null,
   "metadata": {},
   "outputs": [],
   "source": [
    "# Ever needed to form a dictionary out of two lists?\n",
    "\n",
    "keys = ['a', 'b', 'c']\n",
    "vals = [1, 2, 3]\n",
    "zipped = dict(zip(keys, vals))\n",
    "\n",
    "'''The zip() inbuilt function takes a number of iterable objects and returns a list of tuples. \n",
    "Each tuple groups the elements of the input objects by their positional index. You can also ‘unzip’ \n",
    "objects by calling *zip() on them.'''"
   ]
  },
  {
   "cell_type": "markdown",
   "metadata": {},
   "source": [
    "<b><a href='https://docs.python.org/3/library/stdtypes.html#sequence-types-list-tuple-range' a>Документация</b> по всем видам последовательностей. \n",
    "    \n",
    "Difference between list, set and tuples and [<b>more such comparisons</b>](https://www.pythoncircle.com/post/249/difference-between-list-set-and-tuples-in-python-and-more-such-comparisons/), пример cокращения кода с [<b>enumerate<b/>](https://proglib.io/p/better-python-code/)"
   ]
  },
  {
   "cell_type": "markdown",
   "metadata": {},
   "source": [
    "<b>Recursive walk trough the dict:</b> prints top \"leafs\" in tree-like dict structure"
   ]
  },
  {
   "cell_type": "code",
   "execution_count": null,
   "metadata": {},
   "outputs": [],
   "source": [
    "def iterdict(d):\n",
    "    for k,v in d.items():        \n",
    "    if isinstance(v, dict):\n",
    "         iterdict(v)\n",
    "    else:            \n",
    "         print (k,\":\",v)\n",
    "\n",
    "iterdict(D1)"
   ]
  }
 ],
 "metadata": {
  "gist": {
   "data": {
    "description": "Desktop/IT/Python/python_basics_1.ipynb",
    "public": false
   },
   "id": ""
  },
  "hide_input": false,
  "kernelspec": {
   "display_name": "Python 3 (ipykernel)",
   "language": "python",
   "name": "python3"
  },
  "language_info": {
   "codemirror_mode": {
    "name": "ipython",
    "version": 3
   },
   "file_extension": ".py",
   "mimetype": "text/x-python",
   "name": "python",
   "nbconvert_exporter": "python",
   "pygments_lexer": "ipython3",
   "version": "3.10.13"
  },
  "latex_envs": {
   "LaTeX_envs_menu_present": true,
   "autoclose": false,
   "autocomplete": true,
   "bibliofile": "biblio.bib",
   "cite_by": "apalike",
   "current_citInitial": 1,
   "eqLabelWithNumbers": true,
   "eqNumInitial": 1,
   "hotkeys": {
    "equation": "Ctrl-E",
    "itemize": "Ctrl-I"
   },
   "labels_anchors": false,
   "latex_user_defs": false,
   "report_style_numbering": false,
   "user_envs_cfg": false
  },
  "nbTranslate": {
   "displayLangs": [
    "*"
   ],
   "hotkey": "alt-t",
   "langInMainMenu": true,
   "sourceLang": "en",
   "targetLang": "fr",
   "useGoogleTranslate": true
  },
  "toc": {
   "base_numbering": 1,
   "nav_menu": {},
   "number_sections": true,
   "sideBar": true,
   "skip_h1_title": false,
   "title_cell": "Table of Contents",
   "title_sidebar": "Contents",
   "toc_cell": false,
   "toc_position": {},
   "toc_section_display": true,
   "toc_window_display": false
  },
  "varInspector": {
   "cols": {
    "lenName": 16,
    "lenType": 16,
    "lenVar": 40
   },
   "kernels_config": {
    "python": {
     "delete_cmd_postfix": "",
     "delete_cmd_prefix": "del ",
     "library": "var_list.py",
     "varRefreshCmd": "print(var_dic_list())"
    },
    "r": {
     "delete_cmd_postfix": ") ",
     "delete_cmd_prefix": "rm(",
     "library": "var_list.r",
     "varRefreshCmd": "cat(var_dic_list()) "
    }
   },
   "oldHeight": 153,
   "position": {
    "height": "40px",
    "left": "1018px",
    "right": "20px",
    "top": "2px",
    "width": "313px"
   },
   "types_to_exclude": [
    "module",
    "function",
    "builtin_function_or_method",
    "instance",
    "_Feature"
   ],
   "varInspector_section_display": "none",
   "window_display": true
  }
 },
 "nbformat": 4,
 "nbformat_minor": 2
}
