{
 "cells": [
  {
   "cell_type": "markdown",
   "id": "6614bc83",
   "metadata": {},
   "source": [
    "### Введение в нейросетевые архитектуры и их применение в задачах машинного зрения"
   ]
  },
  {
   "cell_type": "code",
   "execution_count": 43,
   "id": "22235b9a",
   "metadata": {},
   "outputs": [],
   "source": [
    "# pip install numpy  \n",
    "# установка библиотеки\n",
    "import numpy as np"
   ]
  },
  {
   "cell_type": "markdown",
   "id": "ecfd6545",
   "metadata": {},
   "source": [
    "1. Матрица\n",
    "Матрица — это прямоугольная таблица чисел, символов или выражений, расположенных в строках и столбцах. Матрицы могут быть использованы для представления систем линейных уравнений, преобразований геометрических объектов и других математических объектов."
   ]
  },
  {
   "cell_type": "markdown",
   "id": "0a6045a0",
   "metadata": {},
   "source": [
    "Размер матрицы: Определяется количеством строк и столбцов. Например, матрица размером \n",
    "𝑚\n",
    "×\n",
    "𝑛\n",
    "m×n имеет \n",
    "𝑚\n",
    "m строк и \n",
    "𝑛\n",
    "n столбцов.\n",
    "Квадратная матрица: Матрица, в которой количество строк равно количеству столбцов (\n",
    "𝑚\n",
    "=\n",
    "𝑛\n",
    "m=n)."
   ]
  },
  {
   "cell_type": "code",
   "execution_count": 44,
   "id": "d1b2fbeb",
   "metadata": {},
   "outputs": [
    {
     "data": {
      "text/plain": [
       "array([[1, 2, 3],\n",
       "       [4, 5, 6]])"
      ]
     },
     "execution_count": 44,
     "metadata": {},
     "output_type": "execute_result"
    }
   ],
   "source": [
    "# Создание матрицы 2x3\n",
    "A = np.array([[1,2,3],[4,5,6]]) \n",
    "A"
   ]
  },
  {
   "cell_type": "code",
   "execution_count": 45,
   "id": "7c0507cf",
   "metadata": {},
   "outputs": [
    {
     "data": {
      "text/plain": [
       "array([[0., 0., 0.],\n",
       "       [0., 0., 0.],\n",
       "       [0., 0., 0.]])"
      ]
     },
     "execution_count": 45,
     "metadata": {},
     "output_type": "execute_result"
    }
   ],
   "source": [
    "# Создание нулевой матрицы 3x3\n",
    "B = np.zeros((3, 3))\n",
    "B"
   ]
  },
  {
   "cell_type": "code",
   "execution_count": 46,
   "id": "19209ab4",
   "metadata": {},
   "outputs": [
    {
     "data": {
      "text/plain": [
       "array([[1., 0., 0.],\n",
       "       [0., 1., 0.],\n",
       "       [0., 0., 1.]])"
      ]
     },
     "execution_count": 46,
     "metadata": {},
     "output_type": "execute_result"
    }
   ],
   "source": [
    "# Создание единичной матрицы 3x3\n",
    "C = np.eye(3)\n",
    "C"
   ]
  },
  {
   "cell_type": "markdown",
   "id": "2c227147",
   "metadata": {},
   "source": [
    "Определитель — это число, которое может быть вычислено из квадратной матрицы. Он показывает, является ли матрица обратимой (если определитель не равен нулю, матрица обратима) и также используется в различных вычислениях, таких как нахождение объема параллелепипеда."
   ]
  },
  {
   "cell_type": "code",
   "execution_count": 47,
   "id": "326f58ea",
   "metadata": {},
   "outputs": [
    {
     "data": {
      "text/plain": [
       "array([[ 2,  4,  6],\n",
       "       [ 8, 10, 12]])"
      ]
     },
     "execution_count": 47,
     "metadata": {},
     "output_type": "execute_result"
    }
   ],
   "source": [
    "# Сложение матриц\n",
    "D = A + A\n",
    "D"
   ]
  },
  {
   "cell_type": "code",
   "execution_count": 48,
   "id": "e1330679",
   "metadata": {},
   "outputs": [
    {
     "data": {
      "text/plain": [
       "array([[0, 0, 0],\n",
       "       [0, 0, 0]])"
      ]
     },
     "execution_count": 48,
     "metadata": {},
     "output_type": "execute_result"
    }
   ],
   "source": [
    "# Вычитание матриц\n",
    "E = A - A\n",
    "E"
   ]
  },
  {
   "cell_type": "markdown",
   "id": "53f0ec2f",
   "metadata": {},
   "source": [
    "Элемент-wise (поэлементное) умножение — это операция, при которой соответствующие элементы двух матриц умножаются друг на друга. Например, для матриц \n",
    "𝐴\n",
    "A и \n",
    "𝐵\n",
    "B такого же размера:"
   ]
  },
  {
   "cell_type": "code",
   "execution_count": 49,
   "id": "f71ad7cc",
   "metadata": {},
   "outputs": [
    {
     "data": {
      "text/plain": [
       "array([[ 1,  4,  9],\n",
       "       [16, 25, 36]])"
      ]
     },
     "execution_count": 49,
     "metadata": {},
     "output_type": "execute_result"
    }
   ],
   "source": [
    "F = A * A  # Поэлементное умножение\n",
    "F"
   ]
  },
  {
   "cell_type": "markdown",
   "id": "fb3d9602",
   "metadata": {},
   "source": [
    "Матричное умножение — это операция, при которой строки первой матрицы умножаются на столбцы второй матрицы. Матричное произведение возможно только, если количество столбцов первой матрицы равно количеству строк второй.\n",
    "\n",
    "Если \n",
    "𝐴\n",
    "A имеет размер \n",
    "𝑚\n",
    "×\n",
    "𝑛\n",
    "m×n, а \n",
    "𝐵\n",
    "B имеет размер \n",
    "𝑛\n",
    "×\n",
    "𝑝\n",
    "n×p, то их произведение \n",
    "𝐶\n",
    "=\n",
    "𝐴\n",
    "⋅\n",
    "𝐵\n",
    "C=A⋅B будет иметь размер \n",
    "𝑚\n",
    "×\n",
    "𝑝\n",
    "m×p."
   ]
  },
  {
   "cell_type": "code",
   "execution_count": 50,
   "id": "5f61f956",
   "metadata": {},
   "outputs": [
    {
     "data": {
      "text/plain": [
       "array([[14, 32],\n",
       "       [32, 77]])"
      ]
     },
     "execution_count": 50,
     "metadata": {},
     "output_type": "execute_result"
    }
   ],
   "source": [
    "G = np.dot(A, A.T)  # Умножение матрицы A на ее транспонированную\n",
    "# Или с использованием оператора @\n",
    "H = A @ A.T\n",
    "H"
   ]
  },
  {
   "cell_type": "code",
   "execution_count": 51,
   "id": "0a6cdf4f",
   "metadata": {},
   "outputs": [
    {
     "data": {
      "text/plain": [
       "numpy.ndarray"
      ]
     },
     "execution_count": 51,
     "metadata": {},
     "output_type": "execute_result"
    }
   ],
   "source": [
    "type(H)"
   ]
  },
  {
   "cell_type": "code",
   "execution_count": 52,
   "id": "abccc00f",
   "metadata": {},
   "outputs": [
    {
     "data": {
      "text/plain": [
       "1.0"
      ]
     },
     "execution_count": 52,
     "metadata": {},
     "output_type": "execute_result"
    }
   ],
   "source": [
    "det_C = np.linalg.det(C)  # Определитель матрицы C\n",
    "det_C"
   ]
  },
  {
   "cell_type": "code",
   "execution_count": 53,
   "id": "da3f2bac",
   "metadata": {
    "scrolled": true
   },
   "outputs": [
    {
     "ename": "LinAlgError",
     "evalue": "Last 2 dimensions of the array must be square",
     "output_type": "error",
     "traceback": [
      "\u001b[1;31m---------------------------------------------------------------------------\u001b[0m",
      "\u001b[1;31mLinAlgError\u001b[0m                               Traceback (most recent call last)",
      "Cell \u001b[1;32mIn[53], line 1\u001b[0m\n\u001b[1;32m----> 1\u001b[0m det_A \u001b[38;5;241m=\u001b[39m np\u001b[38;5;241m.\u001b[39mlinalg\u001b[38;5;241m.\u001b[39mdet(A)  \u001b[38;5;66;03m# Определитель матрицы A\u001b[39;00m\n\u001b[0;32m      2\u001b[0m det_A\n",
      "File \u001b[1;32m<__array_function__ internals>:200\u001b[0m, in \u001b[0;36mdet\u001b[1;34m(*args, **kwargs)\u001b[0m\n",
      "File \u001b[1;32m~\\anaconda3\\Lib\\site-packages\\numpy\\linalg\\linalg.py:2136\u001b[0m, in \u001b[0;36mdet\u001b[1;34m(a)\u001b[0m\n\u001b[0;32m   2134\u001b[0m a \u001b[38;5;241m=\u001b[39m asarray(a)\n\u001b[0;32m   2135\u001b[0m _assert_stacked_2d(a)\n\u001b[1;32m-> 2136\u001b[0m _assert_stacked_square(a)\n\u001b[0;32m   2137\u001b[0m t, result_t \u001b[38;5;241m=\u001b[39m _commonType(a)\n\u001b[0;32m   2138\u001b[0m signature \u001b[38;5;241m=\u001b[39m \u001b[38;5;124m'\u001b[39m\u001b[38;5;124mD->D\u001b[39m\u001b[38;5;124m'\u001b[39m \u001b[38;5;28;01mif\u001b[39;00m isComplexType(t) \u001b[38;5;28;01melse\u001b[39;00m \u001b[38;5;124m'\u001b[39m\u001b[38;5;124md->d\u001b[39m\u001b[38;5;124m'\u001b[39m\n",
      "File \u001b[1;32m~\\anaconda3\\Lib\\site-packages\\numpy\\linalg\\linalg.py:190\u001b[0m, in \u001b[0;36m_assert_stacked_square\u001b[1;34m(*arrays)\u001b[0m\n\u001b[0;32m    188\u001b[0m m, n \u001b[38;5;241m=\u001b[39m a\u001b[38;5;241m.\u001b[39mshape[\u001b[38;5;241m-\u001b[39m\u001b[38;5;241m2\u001b[39m:]\n\u001b[0;32m    189\u001b[0m \u001b[38;5;28;01mif\u001b[39;00m m \u001b[38;5;241m!=\u001b[39m n:\n\u001b[1;32m--> 190\u001b[0m     \u001b[38;5;28;01mraise\u001b[39;00m LinAlgError(\u001b[38;5;124m'\u001b[39m\u001b[38;5;124mLast 2 dimensions of the array must be square\u001b[39m\u001b[38;5;124m'\u001b[39m)\n",
      "\u001b[1;31mLinAlgError\u001b[0m: Last 2 dimensions of the array must be square"
     ]
    }
   ],
   "source": [
    "det_A = np.linalg.det(A)  # Определитель матрицы A\n",
    "det_A"
   ]
  },
  {
   "cell_type": "code",
   "execution_count": 54,
   "id": "c32356e9",
   "metadata": {},
   "outputs": [
    {
     "data": {
      "text/plain": [
       "array([1., 1., 1.])"
      ]
     },
     "execution_count": 54,
     "metadata": {},
     "output_type": "execute_result"
    }
   ],
   "source": [
    "eigvals, eigvecs = np.linalg.eig(C)  # Собственные значения и собственные векторы матрицы C\n",
    "eigvals"
   ]
  },
  {
   "cell_type": "markdown",
   "id": "ed932e68",
   "metadata": {},
   "source": [
    "C= \n",
    "​\n",
    "  \n",
    "1\n",
    "0\n",
    "0\n",
    "​\n",
    "  \n",
    "0\n",
    "1\n",
    "0\n",
    "​\n",
    "  \n",
    "0\n",
    "0\n",
    "1\n",
    "​\n",
    "  \n",
    "​\n"
   ]
  },
  {
   "cell_type": "markdown",
   "id": "3c640535",
   "metadata": {},
   "source": [
    "det(C−λI)=0 \n",
    "где \n",
    "𝜆\n",
    "λ — собственное значение, \n",
    "𝐼\n",
    "I — единичная матрица."
   ]
  },
  {
   "cell_type": "code",
   "execution_count": 55,
   "id": "30d731cf",
   "metadata": {},
   "outputs": [],
   "source": [
    "# (C−λI)v=0 Нахождение собственных значений"
   ]
  },
  {
   "cell_type": "markdown",
   "id": "6a86f8f7",
   "metadata": {},
   "source": [
    "### Алгоритм обратного распространения ошибки (backpropagation)"
   ]
  },
  {
   "cell_type": "markdown",
   "id": "c7dfff70",
   "metadata": {},
   "source": [
    "Алгоритм обратного распространения ошибки (backpropagation) — это метод оптимизации, используемый в нейронных сетях для обучения моделей. Он позволяет вычислять градиенты функции потерь по отношению к параметрам сети, что в свою очередь позволяет корректировать эти параметры с целью минимизации потерь. Вот основные шаги алгоритма:"
   ]
  },
  {
   "cell_type": "markdown",
   "id": "5b99aa6c",
   "metadata": {},
   "source": [
    "1.Прямое распространение:\n",
    "\n",
    "Входные данные подаются на вход нейронной сети.\n",
    "Каждый нейрон вычисляет взвешенную сумму своих входов и применяет активационную функцию для получения выходного сигнала.\n",
    "Функция активации в нейронных сетях — это математическая функция, которая определяет выходной сигнал нейрона в зависимости от его входных данных. Она вводит нелинейность в модель, что позволяет нейронной сети учитывать сложные зависимости в данных. Существует несколько популярных функций активации, каждая из которых имеет свои преимущества и ограничения."
   ]
  },
  {
   "cell_type": "markdown",
   "id": "b43511d0",
   "metadata": {},
   "source": [
    "2. Вычисление ошибки:\n",
    "\n",
    "На выходе сети вычисляется функция потерь (например, среднеквадратичная ошибка или кросс-энтропия) путем сравнения предсказанных значений и реальных значений."
   ]
  },
  {
   "cell_type": "markdown",
   "id": "6696244f",
   "metadata": {},
   "source": [
    "3. Обратное распространение:\n",
    "\n",
    "Ошибка распределяется обратно через сеть, начиная с выходного слоя и двигаясь к входному.\n",
    "Для каждого нейрона вычисляются частные производные функции потерь по его выходу и весам. Это делается с помощью правила цепочки (chain rule)."
   ]
  },
  {
   "cell_type": "markdown",
   "id": "4cf89f62",
   "metadata": {},
   "source": [
    "4. Обновление весов:\n",
    "\n",
    "Полученные градиенты используются для обновления весов нейронной сети. Обычно применяется метод градиентного спуска или его вариации, такие как Adam или RMSprop."
   ]
  },
  {
   "cell_type": "markdown",
   "id": "0d7e73d5",
   "metadata": {},
   "source": [
    "5. Итерация:\n",
    "\n",
    "Процесс повторяется для всех примеров в обучающем наборе данных, и шаги 1–4 повторяются в течение нескольких эпох до достижения заданного уровня точности или до сходимости функции потерь."
   ]
  },
  {
   "cell_type": "code",
   "execution_count": 56,
   "id": "189d0dff",
   "metadata": {},
   "outputs": [
    {
     "name": "stdout",
     "output_type": "stream",
     "text": [
      "Выходные данные после обучения:\n",
      "[[0.00176211]\n",
      " [0.01411594]\n",
      " [0.01579198]\n",
      " [0.49890837]]\n"
     ]
    }
   ],
   "source": [
    "\"\"\"Функция активации сигмоида — это математическая функция,\n",
    "часто используемая в нейронных сетях для введения нелинейности в модель.\n",
    "Сигмоидная функция преобразует входное значение в промежуток от 0 до 1,\n",
    "что удобно для задач бинарной классификации. \"\"\"\n",
    "import numpy as np\n",
    "# функция активации сигмоида\n",
    "def sigmoid(x):\n",
    "    return 1/(1 + np.exp(-x))\n",
    "\n",
    "# Производная сигмоиды\n",
    "def sigmoid_derivative(x):\n",
    "    return x * (1 - x)\n",
    "\n",
    "# Генерация обучающих данных\n",
    "# Входные данные: логическое И\n",
    "X = np.array([[0, 0],\n",
    "              [0, 1],\n",
    "              [1, 0],\n",
    "              [1, 1]])\n",
    "\n",
    "y = np.array([[0],\n",
    "              [0],\n",
    "              [0],\n",
    "              [1]])\n",
    "\n",
    "np.random.seed(42) # добавление зерно. \n",
    "input_layer_size = 2\n",
    "hidden_layer_size = 2\n",
    "output_layer_size = 1\n",
    "\n",
    "# Инициализация весов\n",
    "weights_input_hidden = np.random.uniform(size=(input_layer_size, hidden_layer_size))\n",
    "weights_hidden_output = np.random.uniform(size=(hidden_layer_size, output_layer_size))\n",
    "\n",
    "# Параметры обучения\n",
    "learning_rate = 0.5\n",
    "epochs = 10000\n",
    "\n",
    "# Обучение сети\n",
    "for epoch in range(epochs):\n",
    "    # Прямое распространение\n",
    "    hidden_layer_input = np.dot(X, weights_input_hidden)\n",
    "    hidden_layer_output = sigmoid(hidden_layer_input)\n",
    "\n",
    "    output_layer_input = np.dot(hidden_layer_output, weights_hidden_output)\n",
    "    predicted_output = sigmoid(output_layer_input)\n",
    "\n",
    "    # Вычисление ошибки\n",
    "    error = y - predicted_output\n",
    "\n",
    "    # Обратное распространение\n",
    "    d_predicted_output = error * sigmoid_derivative(predicted_output)\n",
    "    error_hidden_layer = d_predicted_output.dot(weights_hidden_output.T)\n",
    "    d_hidden_layer = error_hidden_layer * sigmoid_derivative(hidden_layer_output)\n",
    "\n",
    "    # Обновление весов\n",
    "    weights_hidden_output += hidden_layer_output.T.dot(d_predicted_output) * learning_rate\n",
    "    weights_input_hidden += X.T.dot(d_hidden_layer) * learning_rate\n",
    "\n",
    "print(\"Выходные данные после обучения:\")\n",
    "print(predicted_output)\n"
   ]
  },
  {
   "cell_type": "markdown",
   "id": "23a2a9b9",
   "metadata": {},
   "source": [
    "1. Сигмоидная функция"
   ]
  },
  {
   "attachments": {
    "image.png": {
     "image/png": "[encoded data removed]"
    }
   },
   "cell_type": "markdown",
   "id": "2618282d",
   "metadata": {},
   "source": [
    "![image.png](attachment:image.png)"
   ]
  },
  {
   "cell_type": "markdown",
   "id": "bab55cce",
   "metadata": {},
   "source": [
    "Диапазон: (0, 1)\n",
    "Преимущества: Хорошо подходит для задач бинарной классификации.\n",
    "Недостатки: Проблема затухания градиента при больших значениях \n",
    "𝑥\n",
    "x (выход ближе к 0 или 1), что замедляет обучение."
   ]
  },
  {
   "cell_type": "code",
   "execution_count": 57,
   "id": "90e71ce3",
   "metadata": {},
   "outputs": [
    {
     "name": "stdout",
     "output_type": "stream",
     "text": [
      "Сигмоидная функция: [0.26894142 0.5        0.73105858 0.88079708]\n"
     ]
    }
   ],
   "source": [
    "import numpy as np\n",
    "\n",
    "def sigmoid(x):\n",
    "    return 1 / (1 + np.exp(-x))\n",
    "\n",
    "# Пример использования\n",
    "x = np.array([-1, 0, 1, 2])\n",
    "output = sigmoid(x)\n",
    "print(\"Сигмоидная функция:\", output)\n"
   ]
  },
  {
   "cell_type": "markdown",
   "id": "8754825c",
   "metadata": {},
   "source": [
    "2. Гиперболический тангенс (tanh)"
   ]
  },
  {
   "attachments": {
    "image.png": {
     "image/png": "[encoded data removed]"
    }
   },
   "cell_type": "markdown",
   "id": "8b18d6cc",
   "metadata": {},
   "source": [
    "![image.png](attachment:image.png)"
   ]
  },
  {
   "cell_type": "markdown",
   "id": "bd6f09f2",
   "metadata": {},
   "source": [
    "Диапазон: (-1, 1)\n",
    "Преимущества: Лучше, чем сигмоида, так как центрирован вокруг нуля, что помогает уменьшить проблемы с затуханием градиента.\n",
    "Недостатки: Также страдает от затухания градиента"
   ]
  },
  {
   "cell_type": "code",
   "execution_count": 58,
   "id": "b52b937a",
   "metadata": {},
   "outputs": [
    {
     "name": "stdout",
     "output_type": "stream",
     "text": [
      "Гиперболический тангенс: [-0.76159416  0.          0.76159416  0.96402758]\n"
     ]
    }
   ],
   "source": [
    "def tanh(x):\n",
    "    return np.tanh(x)\n",
    "\n",
    "# Пример использования\n",
    "output = tanh(x)\n",
    "print(\"Гиперболический тангенс:\", output)\n"
   ]
  },
  {
   "cell_type": "markdown",
   "id": "691f83b7",
   "metadata": {},
   "source": [
    "3. ReLU (Rectified Linear Unit)"
   ]
  },
  {
   "attachments": {
    "image.png": {
     "image/png": "[encoded data removed]"
    }
   },
   "cell_type": "markdown",
   "id": "c4132995",
   "metadata": {},
   "source": [
    "![image.png](attachment:image.png)"
   ]
  },
  {
   "cell_type": "markdown",
   "id": "51a54b4e",
   "metadata": {},
   "source": [
    "Диапазон: [0, ∞)\n",
    "Преимущества: Простота вычисления, быстрее обучение по сравнению с сигмоидой и tanh, хорошо работает на практике.\n",
    "Недостатки: Проблема \"мертвых нейронов\", когда нейрон может перестать обучаться, если его выход всегда равен 0."
   ]
  },
  {
   "cell_type": "code",
   "execution_count": 59,
   "id": "e125ae83",
   "metadata": {},
   "outputs": [
    {
     "name": "stdout",
     "output_type": "stream",
     "text": [
      "ReLU: [0 0 1 2]\n"
     ]
    }
   ],
   "source": [
    "def relu(x):\n",
    "    return np.maximum(0, x)\n",
    "\n",
    "# Пример использования\n",
    "output = relu(x)\n",
    "print(\"ReLU:\", output)"
   ]
  },
  {
   "cell_type": "markdown",
   "id": "eb77120d",
   "metadata": {},
   "source": [
    "4. Leaky ReLU"
   ]
  },
  {
   "attachments": {
    "image.png": {
     "image/png": "[encoded data removed]"
    }
   },
   "cell_type": "markdown",
   "id": "1ee93e08",
   "metadata": {},
   "source": [
    "![image.png](attachment:image.png)"
   ]
  },
  {
   "cell_type": "markdown",
   "id": "a873f09e",
   "metadata": {},
   "source": [
    "где \n",
    "𝛼\n",
    "α — небольшое положительное значение (обычно 0.01).\n",
    "\n",
    "Диапазон: (-∞, ∞)\n",
    "Преимущества: Решает проблему \"мертвых нейронов\" в ReLU, позволяя небольшую градиентную течь при отрицательных значениях.\n",
    "Недостатки: Все еще может иметь некоторые недостатки ReLU."
   ]
  },
  {
   "cell_type": "code",
   "execution_count": 60,
   "id": "aa669c04",
   "metadata": {},
   "outputs": [
    {
     "name": "stdout",
     "output_type": "stream",
     "text": [
      "Leaky ReLU: [-0.01  0.    1.    2.  ]\n"
     ]
    }
   ],
   "source": [
    "def leaky_relu(x, alpha=0.01):\n",
    "    return np.where(x > 0, x, alpha * x)\n",
    "\n",
    "# Пример использования\n",
    "output = leaky_relu(x)\n",
    "print(\"Leaky ReLU:\", output)"
   ]
  },
  {
   "cell_type": "markdown",
   "id": "9b9a6cf5",
   "metadata": {},
   "source": [
    "5. Softmax"
   ]
  },
  {
   "attachments": {
    "image.png": {
     "image/png": "[encoded data removed]"
    }
   },
   "cell_type": "markdown",
   "id": "1a26c90e",
   "metadata": {},
   "source": [
    "![image.png](attachment:image.png)"
   ]
  },
  {
   "cell_type": "markdown",
   "id": "60d3ac42",
   "metadata": {},
   "source": [
    "где \n",
    "𝑧\n",
    "𝑖\n",
    "z \n",
    "i\n",
    "​\n",
    "  — выходы из нейронов."
   ]
  },
  {
   "cell_type": "markdown",
   "id": "f25b7aa8",
   "metadata": {},
   "source": [
    "Диапазон: (0, 1) для каждого класса, сумма всех выходов равна 1.\n",
    "Преимущества: Используется в задачах многоклассовой классификации, предоставляет вероятностные интерпретации.\n",
    "Недостатки: Чувствительность к большим значениям вектора \n",
    "𝑧\n",
    "z."
   ]
  },
  {
   "cell_type": "code",
   "execution_count": 61,
   "id": "3daff0f4",
   "metadata": {},
   "outputs": [
    {
     "name": "stdout",
     "output_type": "stream",
     "text": [
      "Softmax: [0.09003057 0.24472847 0.66524096]\n"
     ]
    }
   ],
   "source": [
    "def softmax(x):\n",
    "    e_x = np.exp(x - np.max(x))  # Устранение переполнения\n",
    "    return e_x / e_x.sum(axis=0)\n",
    "\n",
    "# Пример использования\n",
    "x = np.array([1, 2, 3])\n",
    "output = softmax(x)\n",
    "print(\"Softmax:\", output)\n"
   ]
  },
  {
   "cell_type": "markdown",
   "id": "af94463e",
   "metadata": {},
   "source": [
    "6. Swish"
   ]
  },
  {
   "attachments": {
    "image.png": {
     "image/png": "[encoded data removed]"
    }
   },
   "cell_type": "markdown",
   "id": "b7c85ac9",
   "metadata": {},
   "source": [
    "![image.png](attachment:image.png)"
   ]
  },
  {
   "cell_type": "markdown",
   "id": "4f8a8402",
   "metadata": {},
   "source": [
    "где \n",
    "𝜎\n",
    "(\n",
    "𝑥\n",
    ")\n",
    "σ(x) — сигмоидная функция."
   ]
  },
  {
   "cell_type": "markdown",
   "id": "03f728e7",
   "metadata": {},
   "source": [
    "Диапазон: (-∞, ∞)\n",
    "Преимущества: Более эффективен, чем ReLU и его варианты в некоторых задачах.\n",
    "Недостатки: Более сложная вычислительная форма, чем ReLU."
   ]
  },
  {
   "cell_type": "code",
   "execution_count": 62,
   "id": "3aec37c2",
   "metadata": {},
   "outputs": [
    {
     "name": "stdout",
     "output_type": "stream",
     "text": [
      "Swish: [0.73105858 1.76159416 2.85772238]\n"
     ]
    }
   ],
   "source": [
    "def swish(x):\n",
    "    return x * sigmoid(x)\n",
    "\n",
    "# Пример использования\n",
    "output = swish(x)\n",
    "print(\"Swish:\", output)"
   ]
  },
  {
   "cell_type": "markdown",
   "id": "f9170dd5",
   "metadata": {},
   "source": [
    "## Линейная регрессия — один из наиболее простых и широко используемых методов машинного обучения. Он применяется для прогнозирования числовых значений на основе входных данных. Основная идея заключается в поиске линейной зависимости между независимыми переменными (признаками) и зависимой переменной (целевым признаком)."
   ]
  },
  {
   "cell_type": "markdown",
   "id": "d2cd88ea",
   "metadata": {},
   "source": [
    "Модель линейной регрессии с одной переменной описывается уравнением:"
   ]
  },
  {
   "attachments": {
    "image.png": {
     "image/png": "[encoded data removed]"
    }
   },
   "cell_type": "markdown",
   "id": "0c97617b",
   "metadata": {},
   "source": [
    "![image.png](attachment:image.png)"
   ]
  },
  {
   "cell_type": "markdown",
   "id": "ddd87e91",
   "metadata": {},
   "source": [
    "где:\n",
    "\n",
    "𝑦\n",
    "y — предсказанное значение (зависимая переменная),\n",
    "𝑥\n",
    "x — входное значение (независимая переменная),\n",
    "𝜃\n",
    "0\n",
    "θ \n",
    "0\n",
    "​\n",
    "  — свободный член (смещение),\n",
    "𝜃\n",
    "1\n",
    "θ \n",
    "1\n",
    "​\n",
    "  — коэффициент наклона (вес признака)."
   ]
  },
  {
   "cell_type": "markdown",
   "id": "97c98a4f",
   "metadata": {},
   "source": [
    "Для оценки качества модели используется функция ошибки, которая показывает, насколько предсказанные значения отличаются от реальных. Наиболее распространенной функцией ошибки для линейной регрессии является среднеквадратичная ошибка (Mean Squared Error, MSE):"
   ]
  },
  {
   "attachments": {
    "image.png": {
     "image/png": "[encoded data removed]"
    }
   },
   "cell_type": "markdown",
   "id": "80731ad3",
   "metadata": {},
   "source": [
    "![image.png](attachment:image.png)"
   ]
  },
  {
   "cell_type": "markdown",
   "id": "84c25f09",
   "metadata": {},
   "source": [
    "где:\n",
    "\n",
    "𝑚\n",
    "m — количество обучающих примеров,\n",
    "ℎ\n",
    "𝜃\n",
    "(\n",
    "𝑥\n",
    "(\n",
    "𝑖\n",
    ")\n",
    ")\n",
    "h \n",
    "θ\n",
    "​\n",
    " (x \n",
    "(i)\n",
    " ) — предсказанное значение модели для \n",
    "𝑥\n",
    "(\n",
    "𝑖\n",
    ")\n",
    "x \n",
    "(i)\n",
    " ,\n",
    "𝑦\n",
    "(\n",
    "𝑖\n",
    ")\n",
    "y \n",
    "(i)\n",
    "  — реальное значение для \n",
    "𝑥\n",
    "(\n",
    "𝑖\n",
    ")\n",
    "x \n",
    "(i)\n",
    " .\n"
   ]
  },
  {
   "cell_type": "code",
   "execution_count": 63,
   "id": "d0471d7b",
   "metadata": {},
   "outputs": [],
   "source": [
    "import numpy as np\n",
    "import matplotlib.pyplot as plt"
   ]
  },
  {
   "cell_type": "code",
   "execution_count": 64,
   "id": "124cb948",
   "metadata": {},
   "outputs": [],
   "source": [
    "# Генерация данных\n",
    "np.random.seed(42)\n",
    "m = 100 \n",
    "X = 2 * np.random.rand(m, 1) \n",
    "y = 4 + 3 * X + np.random.randn(m, 1)\n",
    "X_b = np.c_[np.ones((m, 1)), X]"
   ]
  },
  {
   "attachments": {
    "image.png": {
     "image/png": "[encoded data removed]"
    }
   },
   "cell_type": "markdown",
   "id": "e64e745e",
   "metadata": {},
   "source": [
    "![image.png](attachment:image.png)"
   ]
  },
  {
   "cell_type": "markdown",
   "id": "e00a8c29",
   "metadata": {},
   "source": [
    "X — матрица входных признаков с добавленным столбцом единиц для свободного члена,\n",
    "𝑦\n",
    "y — вектор целевых значений."
   ]
  },
  {
   "cell_type": "code",
   "execution_count": 65,
   "id": "ce117f69",
   "metadata": {},
   "outputs": [
    {
     "name": "stdout",
     "output_type": "stream",
     "text": [
      "Параметры, найденные нормальными уравнениями:\n",
      "θ0 = 4.22, θ1 = 2.77\n"
     ]
    }
   ],
   "source": [
    "# **1. Аналитическое решение (Нормальные уравнения)**\n",
    "theta_best = np.linalg.inv(X_b.T @ X_b) @ X_b.T @ y\n",
    "print(\"Параметры, найденные нормальными уравнениями:\")\n",
    "print(f\"θ0 = {theta_best[0][0]:.2f}, θ1 = {theta_best[1][0]:.2f}\")"
   ]
  },
  {
   "cell_type": "markdown",
   "id": "3044f349",
   "metadata": {},
   "source": [
    "Градиентный спуск — итеративный алгоритм оптимизации, который минимизирует функцию ошибки путем обновления параметров \n",
    "𝜃\n",
    "θ в направлении антиградиента"
   ]
  },
  {
   "cell_type": "markdown",
   "id": "6bafd69b",
   "metadata": {},
   "source": [
    "В стохастическом градиентном спуске обновление параметров происходит после каждого обучающего примера, что может ускорить сходимость"
   ]
  },
  {
   "cell_type": "code",
   "execution_count": 66,
   "id": "fbf36721",
   "metadata": {},
   "outputs": [],
   "source": [
    "# Прогнозирование\n",
    "X_new = np.array([[0], [2]])\n",
    "X_new_b = np.c_[np.ones((2, 1)), X_new]\n",
    "y_predict_normal = X_new_b @ theta_best"
   ]
  },
  {
   "cell_type": "code",
   "execution_count": 67,
   "id": "5bc8bb49",
   "metadata": {},
   "outputs": [
    {
     "name": "stdout",
     "output_type": "stream",
     "text": [
      "\n",
      "Параметры, найденные градиентным спуском:\n",
      "θ0 = 4.22, θ1 = 2.77\n"
     ]
    }
   ],
   "source": [
    "# **2. Градиентный спуск**\n",
    "theta = np.random.randn(2,1)  # случайная инициализация параметров\n",
    "learning_rate = 0.1\n",
    "n_iterations = 1000\n",
    "for iteration in range(n_iterations):\n",
    "    gradients = 2/m * X_b.T @ (X_b @ theta - y)\n",
    "    theta = theta - learning_rate * gradients\n",
    "\n",
    "print(\"\\nПараметры, найденные градиентным спуском:\")\n",
    "print(f\"θ0 = {theta[0][0]:.2f}, θ1 = {theta[1][0]:.2f}\")\n",
    "\n",
    "y_predict_gd = X_new_b @ theta"
   ]
  },
  {
   "cell_type": "code",
   "execution_count": 68,
   "id": "9c4a2d47",
   "metadata": {},
   "outputs": [
    {
     "data": {
      "image/png": "[encoded data removed]",
      "text/plain": [
       "<Figure size 1000x600 with 1 Axes>"
      ]
     },
     "metadata": {},
     "output_type": "display_data"
    }
   ],
   "source": [
    "# Визуализация\n",
    "plt.figure(figsize=(10, 6))\n",
    "plt.plot(X_new, y_predict_normal, \"r-\", linewidth=2, label=\"Нормальные уравнения\")\n",
    "plt.plot(X_new, y_predict_gd, \"b--\", linewidth=2, label=\"Градиентный спуск\")\n",
    "plt.plot(X, y, \"go\", label=\"Данные\")\n",
    "plt.xlabel(\"X\")\n",
    "plt.ylabel(\"y\")\n",
    "plt.title(\"Линейная регрессия: нормальные уравнения vs градиентный спуск\")\n",
    "plt.legend()\n",
    "plt.show()"
   ]
  },
  {
   "cell_type": "code",
   "execution_count": null,
   "id": "c208014a",
   "metadata": {},
   "outputs": [],
   "source": []
  }
 ],
 "metadata": {
  "kernelspec": {
   "display_name": "Python 3 (ipykernel)",
   "language": "python",
   "name": "python3"
  },
  "language_info": {
   "codemirror_mode": {
    "name": "ipython",
    "version": 3
   },
   "file_extension": ".py",
   "mimetype": "text/x-python",
   "name": "python",
   "nbconvert_exporter": "python",
   "pygments_lexer": "ipython3",
   "version": "3.11.4"
  }
 },
 "nbformat": 4,
 "nbformat_minor": 5
}
